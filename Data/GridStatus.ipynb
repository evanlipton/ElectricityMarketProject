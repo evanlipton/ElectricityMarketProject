{
 "cells": [
  {
   "cell_type": "code",
   "execution_count": null,
   "metadata": {
    "collapsed": true,
    "pycharm": {
     "is_executing": true
    }
   },
   "outputs": [],
   "source": [
    "import pandas as pd\n",
    "import plotly.express as px\n"
   ]
  },
  {
   "cell_type": "code",
   "execution_count": null,
   "outputs": [],
   "source": [
    "import gridstatus"
   ],
   "metadata": {
    "collapsed": false,
    "pycharm": {
     "is_executing": true
    }
   }
  },
  {
   "cell_type": "code",
   "execution_count": null,
   "outputs": [],
   "source": [
    "iso = gridstatus.NYISO()"
   ],
   "metadata": {
    "collapsed": false
   }
  },
  {
   "cell_type": "code",
   "execution_count": null,
   "outputs": [],
   "source": [
    "iso.get_fuel_mix(start=\"Jan 1, 2020\", end=\"Dec 1, 2022\", save_to=\"nyiso_fuel_mix/\")"
   ],
   "metadata": {
    "collapsed": false
   }
  },
  {
   "cell_type": "code",
   "execution_count": 16,
   "outputs": [
    {
     "name": "stdout",
     "output_type": "stream",
     "text": [
      "NYISO_get_fuel_mix_20200101_20200201.csv\r\n",
      "NYISO_get_fuel_mix_20200201_20200301.csv\r\n",
      "NYISO_get_fuel_mix_20200301_20200401.csv\r\n",
      "NYISO_get_fuel_mix_20200401_20200501.csv\r\n",
      "NYISO_get_fuel_mix_20200501_20200601.csv\r\n",
      "NYISO_get_fuel_mix_20200601_20200701.csv\r\n",
      "NYISO_get_fuel_mix_20200701_20200801.csv\r\n",
      "NYISO_get_fuel_mix_20200801_20200901.csv\r\n",
      "NYISO_get_fuel_mix_20200901_20201001.csv\r\n",
      "NYISO_get_fuel_mix_20201001_20201101.csv\r\n"
     ]
    }
   ],
   "source": [
    "!ls nyiso_fuel_mix/ | head -n 10"
   ],
   "metadata": {
    "collapsed": false
   }
  },
  {
   "cell_type": "code",
   "execution_count": 17,
   "outputs": [
    {
     "name": "stderr",
     "output_type": "stream",
     "text": [
      "100%|██████████| 35/35 [00:00<00:00, 43.93it/s]\n"
     ]
    },
    {
     "data": {
      "text/plain": "                            Time  Dual Fuel   Hydro  Natural Gas  Nuclear  \\\n0      2020-01-01 00:05:00-05:00     2350.0  3279.0       1883.0   5418.0   \n1      2020-01-01 00:10:00-05:00     2207.0  3113.0       1801.0   5420.0   \n2      2020-01-01 00:15:00-05:00     2133.0  3018.0       1848.0   5422.0   \n3      2020-01-01 00:20:00-05:00     2047.0  3059.0       1929.0   5421.0   \n4      2020-01-01 00:25:00-05:00     2035.0  3092.0       1946.0   5419.0   \n...                          ...        ...     ...          ...      ...   \n312914 2022-11-30 23:40:00-05:00     2454.0  2434.0       3673.0   3342.0   \n312915 2022-11-30 23:45:00-05:00     2447.0  2352.0       3628.0   3342.0   \n312916 2022-11-30 23:50:00-05:00     2420.0  2309.0       3566.0   3342.0   \n312917 2022-11-30 23:55:00-05:00     2342.0  2256.0       3538.0   3342.0   \n312918 2022-12-01 00:00:00-05:00     2253.0  2283.0       3557.0   3342.0   \n\n        Other Fossil Fuels  Other Renewables    Wind  \n0                      1.0             277.0   883.0  \n1                      1.0             273.0   851.0  \n2                      1.0             275.0   852.0  \n3                      1.0             274.0   863.0  \n4                      1.0             271.0   861.0  \n...                    ...               ...     ...  \n312914                 0.0             253.0  1651.0  \n312915                 0.0             252.0  1684.0  \n312916                 0.0             253.0  1715.0  \n312917                 0.0             252.0  1728.0  \n312918                 0.0             251.0  1673.0  \n\n[312919 rows x 8 columns]",
      "text/html": "<div>\n<style scoped>\n    .dataframe tbody tr th:only-of-type {\n        vertical-align: middle;\n    }\n\n    .dataframe tbody tr th {\n        vertical-align: top;\n    }\n\n    .dataframe thead th {\n        text-align: right;\n    }\n</style>\n<table border=\"1\" class=\"dataframe\">\n  <thead>\n    <tr style=\"text-align: right;\">\n      <th></th>\n      <th>Time</th>\n      <th>Dual Fuel</th>\n      <th>Hydro</th>\n      <th>Natural Gas</th>\n      <th>Nuclear</th>\n      <th>Other Fossil Fuels</th>\n      <th>Other Renewables</th>\n      <th>Wind</th>\n    </tr>\n  </thead>\n  <tbody>\n    <tr>\n      <th>0</th>\n      <td>2020-01-01 00:05:00-05:00</td>\n      <td>2350.0</td>\n      <td>3279.0</td>\n      <td>1883.0</td>\n      <td>5418.0</td>\n      <td>1.0</td>\n      <td>277.0</td>\n      <td>883.0</td>\n    </tr>\n    <tr>\n      <th>1</th>\n      <td>2020-01-01 00:10:00-05:00</td>\n      <td>2207.0</td>\n      <td>3113.0</td>\n      <td>1801.0</td>\n      <td>5420.0</td>\n      <td>1.0</td>\n      <td>273.0</td>\n      <td>851.0</td>\n    </tr>\n    <tr>\n      <th>2</th>\n      <td>2020-01-01 00:15:00-05:00</td>\n      <td>2133.0</td>\n      <td>3018.0</td>\n      <td>1848.0</td>\n      <td>5422.0</td>\n      <td>1.0</td>\n      <td>275.0</td>\n      <td>852.0</td>\n    </tr>\n    <tr>\n      <th>3</th>\n      <td>2020-01-01 00:20:00-05:00</td>\n      <td>2047.0</td>\n      <td>3059.0</td>\n      <td>1929.0</td>\n      <td>5421.0</td>\n      <td>1.0</td>\n      <td>274.0</td>\n      <td>863.0</td>\n    </tr>\n    <tr>\n      <th>4</th>\n      <td>2020-01-01 00:25:00-05:00</td>\n      <td>2035.0</td>\n      <td>3092.0</td>\n      <td>1946.0</td>\n      <td>5419.0</td>\n      <td>1.0</td>\n      <td>271.0</td>\n      <td>861.0</td>\n    </tr>\n    <tr>\n      <th>...</th>\n      <td>...</td>\n      <td>...</td>\n      <td>...</td>\n      <td>...</td>\n      <td>...</td>\n      <td>...</td>\n      <td>...</td>\n      <td>...</td>\n    </tr>\n    <tr>\n      <th>312914</th>\n      <td>2022-11-30 23:40:00-05:00</td>\n      <td>2454.0</td>\n      <td>2434.0</td>\n      <td>3673.0</td>\n      <td>3342.0</td>\n      <td>0.0</td>\n      <td>253.0</td>\n      <td>1651.0</td>\n    </tr>\n    <tr>\n      <th>312915</th>\n      <td>2022-11-30 23:45:00-05:00</td>\n      <td>2447.0</td>\n      <td>2352.0</td>\n      <td>3628.0</td>\n      <td>3342.0</td>\n      <td>0.0</td>\n      <td>252.0</td>\n      <td>1684.0</td>\n    </tr>\n    <tr>\n      <th>312916</th>\n      <td>2022-11-30 23:50:00-05:00</td>\n      <td>2420.0</td>\n      <td>2309.0</td>\n      <td>3566.0</td>\n      <td>3342.0</td>\n      <td>0.0</td>\n      <td>253.0</td>\n      <td>1715.0</td>\n    </tr>\n    <tr>\n      <th>312917</th>\n      <td>2022-11-30 23:55:00-05:00</td>\n      <td>2342.0</td>\n      <td>2256.0</td>\n      <td>3538.0</td>\n      <td>3342.0</td>\n      <td>0.0</td>\n      <td>252.0</td>\n      <td>1728.0</td>\n    </tr>\n    <tr>\n      <th>312918</th>\n      <td>2022-12-01 00:00:00-05:00</td>\n      <td>2253.0</td>\n      <td>2283.0</td>\n      <td>3557.0</td>\n      <td>3342.0</td>\n      <td>0.0</td>\n      <td>251.0</td>\n      <td>1673.0</td>\n    </tr>\n  </tbody>\n</table>\n<p>312919 rows × 8 columns</p>\n</div>"
     },
     "execution_count": 17,
     "metadata": {},
     "output_type": "execute_result"
    }
   ],
   "source": [
    "df = gridstatus.load_folder(\n",
    "    \"nyiso_fuel_mix/\", time_zone=gridstatus.NYISO.default_timezone\n",
    ")\n",
    "df"
   ],
   "metadata": {
    "collapsed": false
   }
  },
  {
   "cell_type": "code",
   "execution_count": 20,
   "outputs": [
    {
     "ename": "ValueError",
     "evalue": "\nImage export using the \"kaleido\" engine requires the kaleido package,\nwhich can be installed using pip:\n    $ pip install -U kaleido\n",
     "output_type": "error",
     "traceback": [
      "\u001B[0;31m---------------------------------------------------------------------------\u001B[0m",
      "\u001B[0;31mValueError\u001B[0m                                Traceback (most recent call last)",
      "Cell \u001B[0;32mIn[20], line 6\u001B[0m\n\u001B[1;32m      4\u001B[0m fig \u001B[38;5;241m=\u001B[39m px\u001B[38;5;241m.\u001B[39mline(avg_hourly, y\u001B[38;5;241m=\u001B[39mavg_hourly\u001B[38;5;241m.\u001B[39mcolumns, title\u001B[38;5;241m=\u001B[39m\u001B[38;5;124m\"\u001B[39m\u001B[38;5;124mNYISO Average Hourly Fuel Mix\u001B[39m\u001B[38;5;124m\"\u001B[39m)\n\u001B[1;32m      5\u001B[0m fig\u001B[38;5;241m.\u001B[39mupdate_yaxes(title\u001B[38;5;241m=\u001B[39m\u001B[38;5;124m\"\u001B[39m\u001B[38;5;124mProduction (MWh)\u001B[39m\u001B[38;5;124m\"\u001B[39m)\n\u001B[0;32m----> 6\u001B[0m \u001B[43mfig\u001B[49m\u001B[38;5;241;43m.\u001B[39;49m\u001B[43mshow\u001B[49m\u001B[43m(\u001B[49m\u001B[38;5;124;43m\"\u001B[39;49m\u001B[38;5;124;43msvg\u001B[39;49m\u001B[38;5;124;43m\"\u001B[39;49m\u001B[43m,\u001B[49m\u001B[43m \u001B[49m\u001B[43mwidth\u001B[49m\u001B[38;5;241;43m=\u001B[39;49m\u001B[38;5;241;43m1200\u001B[39;49m\u001B[43m,\u001B[49m\u001B[43m \u001B[49m\u001B[43mheight\u001B[49m\u001B[38;5;241;43m=\u001B[39;49m\u001B[38;5;241;43m600\u001B[39;49m\u001B[43m)\u001B[49m\n",
      "File \u001B[0;32m/usr/local/lib/python3.8/site-packages/plotly/basedatatypes.py:3390\u001B[0m, in \u001B[0;36mBaseFigure.show\u001B[0;34m(self, *args, **kwargs)\u001B[0m\n\u001B[1;32m   3357\u001B[0m \u001B[38;5;250m\u001B[39m\u001B[38;5;124;03m\"\"\"\u001B[39;00m\n\u001B[1;32m   3358\u001B[0m \u001B[38;5;124;03mShow a figure using either the default renderer(s) or the renderer(s)\u001B[39;00m\n\u001B[1;32m   3359\u001B[0m \u001B[38;5;124;03mspecified by the renderer argument\u001B[39;00m\n\u001B[0;32m   (...)\u001B[0m\n\u001B[1;32m   3386\u001B[0m \u001B[38;5;124;03mNone\u001B[39;00m\n\u001B[1;32m   3387\u001B[0m \u001B[38;5;124;03m\"\"\"\u001B[39;00m\n\u001B[1;32m   3388\u001B[0m \u001B[38;5;28;01mimport\u001B[39;00m \u001B[38;5;21;01mplotly\u001B[39;00m\u001B[38;5;21;01m.\u001B[39;00m\u001B[38;5;21;01mio\u001B[39;00m \u001B[38;5;28;01mas\u001B[39;00m \u001B[38;5;21;01mpio\u001B[39;00m\n\u001B[0;32m-> 3390\u001B[0m \u001B[38;5;28;01mreturn\u001B[39;00m \u001B[43mpio\u001B[49m\u001B[38;5;241;43m.\u001B[39;49m\u001B[43mshow\u001B[49m\u001B[43m(\u001B[49m\u001B[38;5;28;43mself\u001B[39;49m\u001B[43m,\u001B[49m\u001B[43m \u001B[49m\u001B[38;5;241;43m*\u001B[39;49m\u001B[43margs\u001B[49m\u001B[43m,\u001B[49m\u001B[43m \u001B[49m\u001B[38;5;241;43m*\u001B[39;49m\u001B[38;5;241;43m*\u001B[39;49m\u001B[43mkwargs\u001B[49m\u001B[43m)\u001B[49m\n",
      "File \u001B[0;32m/usr/local/lib/python3.8/site-packages/plotly/io/_renderers.py:388\u001B[0m, in \u001B[0;36mshow\u001B[0;34m(fig, renderer, validate, **kwargs)\u001B[0m\n\u001B[1;32m    385\u001B[0m fig_dict \u001B[38;5;241m=\u001B[39m validate_coerce_fig_to_dict(fig, validate)\n\u001B[1;32m    387\u001B[0m \u001B[38;5;66;03m# Mimetype renderers\u001B[39;00m\n\u001B[0;32m--> 388\u001B[0m bundle \u001B[38;5;241m=\u001B[39m \u001B[43mrenderers\u001B[49m\u001B[38;5;241;43m.\u001B[39;49m\u001B[43m_build_mime_bundle\u001B[49m\u001B[43m(\u001B[49m\u001B[43mfig_dict\u001B[49m\u001B[43m,\u001B[49m\u001B[43m \u001B[49m\u001B[43mrenderers_string\u001B[49m\u001B[38;5;241;43m=\u001B[39;49m\u001B[43mrenderer\u001B[49m\u001B[43m,\u001B[49m\u001B[43m \u001B[49m\u001B[38;5;241;43m*\u001B[39;49m\u001B[38;5;241;43m*\u001B[39;49m\u001B[43mkwargs\u001B[49m\u001B[43m)\u001B[49m\n\u001B[1;32m    389\u001B[0m \u001B[38;5;28;01mif\u001B[39;00m bundle:\n\u001B[1;32m    390\u001B[0m     \u001B[38;5;28;01mif\u001B[39;00m \u001B[38;5;129;01mnot\u001B[39;00m ipython_display:\n",
      "File \u001B[0;32m/usr/local/lib/python3.8/site-packages/plotly/io/_renderers.py:296\u001B[0m, in \u001B[0;36mRenderersConfig._build_mime_bundle\u001B[0;34m(self, fig_dict, renderers_string, **kwargs)\u001B[0m\n\u001B[1;32m    293\u001B[0m             \u001B[38;5;28;01mif\u001B[39;00m \u001B[38;5;28mhasattr\u001B[39m(renderer, k):\n\u001B[1;32m    294\u001B[0m                 \u001B[38;5;28msetattr\u001B[39m(renderer, k, v)\n\u001B[0;32m--> 296\u001B[0m         bundle\u001B[38;5;241m.\u001B[39mupdate(\u001B[43mrenderer\u001B[49m\u001B[38;5;241;43m.\u001B[39;49m\u001B[43mto_mimebundle\u001B[49m\u001B[43m(\u001B[49m\u001B[43mfig_dict\u001B[49m\u001B[43m)\u001B[49m)\n\u001B[1;32m    298\u001B[0m \u001B[38;5;28;01mreturn\u001B[39;00m bundle\n",
      "File \u001B[0;32m/usr/local/lib/python3.8/site-packages/plotly/io/_base_renderers.py:127\u001B[0m, in \u001B[0;36mImageRenderer.to_mimebundle\u001B[0;34m(self, fig_dict)\u001B[0m\n\u001B[1;32m    126\u001B[0m \u001B[38;5;28;01mdef\u001B[39;00m \u001B[38;5;21mto_mimebundle\u001B[39m(\u001B[38;5;28mself\u001B[39m, fig_dict):\n\u001B[0;32m--> 127\u001B[0m     image_bytes \u001B[38;5;241m=\u001B[39m \u001B[43mto_image\u001B[49m\u001B[43m(\u001B[49m\n\u001B[1;32m    128\u001B[0m \u001B[43m        \u001B[49m\u001B[43mfig_dict\u001B[49m\u001B[43m,\u001B[49m\n\u001B[1;32m    129\u001B[0m \u001B[43m        \u001B[49m\u001B[38;5;28;43mformat\u001B[39;49m\u001B[38;5;241;43m=\u001B[39;49m\u001B[38;5;28;43mself\u001B[39;49m\u001B[38;5;241;43m.\u001B[39;49m\u001B[43mformat\u001B[49m\u001B[43m,\u001B[49m\n\u001B[1;32m    130\u001B[0m \u001B[43m        \u001B[49m\u001B[43mwidth\u001B[49m\u001B[38;5;241;43m=\u001B[39;49m\u001B[38;5;28;43mself\u001B[39;49m\u001B[38;5;241;43m.\u001B[39;49m\u001B[43mwidth\u001B[49m\u001B[43m,\u001B[49m\n\u001B[1;32m    131\u001B[0m \u001B[43m        \u001B[49m\u001B[43mheight\u001B[49m\u001B[38;5;241;43m=\u001B[39;49m\u001B[38;5;28;43mself\u001B[39;49m\u001B[38;5;241;43m.\u001B[39;49m\u001B[43mheight\u001B[49m\u001B[43m,\u001B[49m\n\u001B[1;32m    132\u001B[0m \u001B[43m        \u001B[49m\u001B[43mscale\u001B[49m\u001B[38;5;241;43m=\u001B[39;49m\u001B[38;5;28;43mself\u001B[39;49m\u001B[38;5;241;43m.\u001B[39;49m\u001B[43mscale\u001B[49m\u001B[43m,\u001B[49m\n\u001B[1;32m    133\u001B[0m \u001B[43m        \u001B[49m\u001B[43mvalidate\u001B[49m\u001B[38;5;241;43m=\u001B[39;49m\u001B[38;5;28;43;01mFalse\u001B[39;49;00m\u001B[43m,\u001B[49m\n\u001B[1;32m    134\u001B[0m \u001B[43m        \u001B[49m\u001B[43mengine\u001B[49m\u001B[38;5;241;43m=\u001B[39;49m\u001B[38;5;28;43mself\u001B[39;49m\u001B[38;5;241;43m.\u001B[39;49m\u001B[43mengine\u001B[49m\u001B[43m,\u001B[49m\n\u001B[1;32m    135\u001B[0m \u001B[43m    \u001B[49m\u001B[43m)\u001B[49m\n\u001B[1;32m    137\u001B[0m     \u001B[38;5;28;01mif\u001B[39;00m \u001B[38;5;28mself\u001B[39m\u001B[38;5;241m.\u001B[39mb64_encode:\n\u001B[1;32m    138\u001B[0m         image_str \u001B[38;5;241m=\u001B[39m base64\u001B[38;5;241m.\u001B[39mb64encode(image_bytes)\u001B[38;5;241m.\u001B[39mdecode(\u001B[38;5;124m\"\u001B[39m\u001B[38;5;124mutf8\u001B[39m\u001B[38;5;124m\"\u001B[39m)\n",
      "File \u001B[0;32m/usr/local/lib/python3.8/site-packages/plotly/io/_kaleido.py:133\u001B[0m, in \u001B[0;36mto_image\u001B[0;34m(fig, format, width, height, scale, validate, engine)\u001B[0m\n\u001B[1;32m    131\u001B[0m     \u001B[38;5;66;03m# Raise informative error message if Kaleido is not installed\u001B[39;00m\n\u001B[1;32m    132\u001B[0m     \u001B[38;5;28;01mif\u001B[39;00m scope \u001B[38;5;129;01mis\u001B[39;00m \u001B[38;5;28;01mNone\u001B[39;00m:\n\u001B[0;32m--> 133\u001B[0m         \u001B[38;5;28;01mraise\u001B[39;00m \u001B[38;5;167;01mValueError\u001B[39;00m(\n\u001B[1;32m    134\u001B[0m \u001B[38;5;250m            \u001B[39m\u001B[38;5;124;03m\"\"\"\u001B[39;00m\n\u001B[1;32m    135\u001B[0m \u001B[38;5;124;03mImage export using the \"kaleido\" engine requires the kaleido package,\u001B[39;00m\n\u001B[1;32m    136\u001B[0m \u001B[38;5;124;03mwhich can be installed using pip:\u001B[39;00m\n\u001B[1;32m    137\u001B[0m \u001B[38;5;124;03m    $ pip install -U kaleido\u001B[39;00m\n\u001B[1;32m    138\u001B[0m \u001B[38;5;124;03m\"\"\"\u001B[39;00m\n\u001B[1;32m    139\u001B[0m         )\n\u001B[1;32m    141\u001B[0m     \u001B[38;5;66;03m# Validate figure\u001B[39;00m\n\u001B[1;32m    142\u001B[0m     \u001B[38;5;66;03m# ---------------\u001B[39;00m\n\u001B[1;32m    143\u001B[0m     fig_dict \u001B[38;5;241m=\u001B[39m validate_coerce_fig_to_dict(fig, validate)\n",
      "\u001B[0;31mValueError\u001B[0m: \nImage export using the \"kaleido\" engine requires the kaleido package,\nwhich can be installed using pip:\n    $ pip install -U kaleido\n"
     ]
    }
   ],
   "source": [
    "hourly = df.set_index(\"Time\").resample(\"H\").mean()\n",
    "avg_hourly = hourly.groupby(hourly.index.hour).mean()\n",
    "\n",
    "fig = px.line(avg_hourly, y=avg_hourly.columns, title=\"NYISO Average Hourly Fuel Mix\")\n",
    "fig.update_yaxes(title=\"Production (MWh)\")\n",
    "fig.show(\"svg\", width=1200, height=600)"
   ],
   "metadata": {
    "collapsed": false
   }
  },
  {
   "cell_type": "code",
   "execution_count": 19,
   "outputs": [
    {
     "name": "stdout",
     "output_type": "stream",
     "text": [
      "Collecting kaleido\r\n",
      "  Using cached kaleido-0.2.1-py2.py3-none-macosx_10_11_x86_64.whl (85.2 MB)\r\n",
      "Installing collected packages: kaleido\r\n",
      "Successfully installed kaleido-0.2.1\r\n"
     ]
    }
   ],
   "source": [
    "!pip install -U kaleido\n"
   ],
   "metadata": {
    "collapsed": false
   }
  },
  {
   "cell_type": "code",
   "execution_count": null,
   "outputs": [],
   "source": [],
   "metadata": {
    "collapsed": false
   }
  }
 ],
 "metadata": {
  "kernelspec": {
   "display_name": "Python 3",
   "language": "python",
   "name": "python3"
  },
  "language_info": {
   "codemirror_mode": {
    "name": "ipython",
    "version": 2
   },
   "file_extension": ".py",
   "mimetype": "text/x-python",
   "name": "python",
   "nbconvert_exporter": "python",
   "pygments_lexer": "ipython2",
   "version": "2.7.6"
  }
 },
 "nbformat": 4,
 "nbformat_minor": 0
}
