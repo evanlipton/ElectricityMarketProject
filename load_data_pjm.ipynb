{
 "cells": [
  {
   "cell_type": "code",
   "execution_count": 1,
   "outputs": [],
   "source": [
    "import numpy as np\n",
    "import pandas as pd\n",
    "import os\n",
    "import re\n",
    "from tqdm import tqdm\n",
    "import requests\n",
    "from io import StringIO\n",
    "from os import listdir\n",
    "from os.path import isfile, join\n",
    "import datetime as dt\n",
    "from datetime import datetime, timedelta\n",
    "\n",
    "import gridstatus"
   ],
   "metadata": {
    "collapsed": false
   }
  },
  {
   "cell_type": "code",
   "execution_count": 2,
   "outputs": [],
   "source": [
    "def listdir_nohidden(path):\n",
    "    for f in os.listdir(path):\n",
    "        if not f.startswith('.'):\n",
    "            yield f\n",
    "\n"
   ],
   "metadata": {
    "collapsed": false
   }
  },
  {
   "cell_type": "code",
   "execution_count": 3,
   "outputs": [],
   "source": [
    "FILE_PATH = \"/Users/evanlipton/Dropbox (YSE)/Solar_ElectricData/Data\""
   ],
   "metadata": {
    "collapsed": false
   }
  },
  {
   "cell_type": "code",
   "execution_count": 4,
   "outputs": [],
   "source": [
    "ISOS = [\"PJM\"]"
   ],
   "metadata": {
    "collapsed": false
   }
  },
  {
   "cell_type": "code",
   "execution_count": 5,
   "outputs": [
    {
     "name": "stderr",
     "output_type": "stream",
     "text": [
      "16it [00:02,  7.37it/s]\n"
     ]
    }
   ],
   "source": [
    "ISO_files = {}\n",
    "ISO_data = {}\n",
    "ISO_final = {}\n",
    "\n",
    "#load in\n",
    "for ISO in ISOS:\n",
    "    ISO_files[ISO] = listdir_nohidden(f\"{FILE_PATH}/{ISO}/old\")\n",
    "    ISO_data[ISO] = {}\n",
    "    for file in tqdm(ISO_files[ISO]):\n",
    "        compiled = re.compile(re.escape(f\"{ISO}_\"), re.IGNORECASE)\n",
    "\n",
    "        ISO_data[ISO][compiled.sub(\"\", file).replace(\".csv\",\"\")] = pd.read_csv(f\"{FILE_PATH}/{ISO}/old/{file}\")"
   ],
   "metadata": {
    "collapsed": false
   }
  },
  {
   "cell_type": "code",
   "execution_count": 6,
   "outputs": [
    {
     "name": "stdout",
     "output_type": "stream",
     "text": [
      "PJM\n"
     ]
    }
   ],
   "source": [
    "#add merge datetime\n",
    "titles = {}\n",
    "for key in ISO_data:\n",
    "    print(key)\n",
    "    titles[key]= []\n",
    "    for k in ISO_data[key]:\n",
    "        try:\n",
    "            ISO_data[key][k][\"time_tomerge\"] = pd.to_datetime(ISO_data[key][k].iloc[:,0], utc=True)\n",
    "        except:\n",
    "            ISO_data[key][k] = ISO_data[key][k][ISO_data[key][k].index % 24 != 0]\n",
    "            ISO_data[key][k][\"time_tomerge\"] = pd.to_datetime(ISO_data[key][k].iloc[:,0], utc=True)\n",
    "            print(type(ISO_data[key][k][\"time_tomerge\"]))"
   ],
   "metadata": {
    "collapsed": false
   }
  },
  {
   "cell_type": "code",
   "execution_count": 7,
   "outputs": [],
   "source": [
    "ISO_final = {}\n",
    "def clean_final(ISO: str, df: str):\n",
    "    ISO_data[ISO][df].columns = ISO_data[ISO][df].columns.str.lower()\n",
    "    no_date = [col for col in ISO_data[ISO][df].columns if \"date\" not in col]\n",
    "    ISO_data[ISO][df] = ISO_data[ISO][df][no_date]\n",
    "    try:\n",
    "        ISO_data[ISO][df] = ISO_data[ISO][df].drop(\"unnamed: 0\")\n",
    "        ISO_data[ISO][df] = ISO_data[ISO][df].drop(\"hour\")\n",
    "    except:\n",
    "        pass\n",
    "    ISO_data[ISO][df] = ISO_data[ISO][df].sort_values(by=\"time_tomerge\")\n",
    "    ISO_data[ISO][df] = ISO_data[ISO][df].set_index(\"time_tomerge\")\n",
    "    ISO_final[ISO] = ISO_data[ISO][df]\n",
    "    for column in ISO_final[ISO].columns:\n",
    "        if str(ISO).lower() in column:\n",
    "            ISO_final[ISO] = ISO_final[ISO].rename(columns={column: column.replace(f\"{str(ISO).lower()}_\",\"\")})\n",
    "    print(ISO_final[ISO])"
   ],
   "metadata": {
    "collapsed": false
   }
  },
  {
   "cell_type": "code",
   "execution_count": 8,
   "outputs": [
    {
     "name": "stdout",
     "output_type": "stream",
     "text": [
      "                           dasr_procurement_price  dasr_procurement_quantity  \\\n",
      "time_tomerge                                                                   \n",
      "2014-01-01 05:00:00+00:00                     0.0                     5840.1   \n",
      "2014-01-01 06:00:00+00:00                     0.0                     5846.7   \n",
      "2014-01-01 07:00:00+00:00                     0.0                     5477.1   \n",
      "2014-01-01 08:00:00+00:00                     0.0                     6297.9   \n",
      "2014-01-01 09:00:00+00:00                     0.0                     5476.9   \n",
      "...                                           ...                        ...   \n",
      "2019-01-01 00:00:00+00:00                     0.0                     5223.8   \n",
      "2019-01-01 01:00:00+00:00                     0.0                     5253.8   \n",
      "2019-01-01 02:00:00+00:00                     0.0                     5223.8   \n",
      "2019-01-01 03:00:00+00:00                     0.0                     5223.8   \n",
      "2019-01-01 04:00:00+00:00                     0.0                     5253.8   \n",
      "\n",
      "                           dasr_cost  rto_activation_cost_nonsynchr  \\\n",
      "time_tomerge                                                          \n",
      "2014-01-01 05:00:00+00:00        0.0                            0.0   \n",
      "2014-01-01 06:00:00+00:00        0.0                            0.0   \n",
      "2014-01-01 07:00:00+00:00        0.0                            0.0   \n",
      "2014-01-01 08:00:00+00:00        0.0                            0.0   \n",
      "2014-01-01 09:00:00+00:00        0.0                            0.0   \n",
      "...                              ...                            ...   \n",
      "2019-01-01 00:00:00+00:00        0.0                            0.0   \n",
      "2019-01-01 01:00:00+00:00        0.0                            0.0   \n",
      "2019-01-01 02:00:00+00:00        0.0                            0.0   \n",
      "2019-01-01 03:00:00+00:00        0.0                            0.0   \n",
      "2019-01-01 04:00:00+00:00        0.0                            0.0   \n",
      "\n",
      "                           mad_activation_cost_nonsynchr  mad_pr_price  \\\n",
      "time_tomerge                                                             \n",
      "2014-01-01 05:00:00+00:00                            0.0           0.0   \n",
      "2014-01-01 06:00:00+00:00                            0.0           0.0   \n",
      "2014-01-01 07:00:00+00:00                            0.0           0.0   \n",
      "2014-01-01 08:00:00+00:00                            0.0           0.0   \n",
      "2014-01-01 09:00:00+00:00                            0.0           0.0   \n",
      "...                                                  ...           ...   \n",
      "2019-01-01 00:00:00+00:00                            0.0           0.0   \n",
      "2019-01-01 01:00:00+00:00                            0.0           0.0   \n",
      "2019-01-01 02:00:00+00:00                            0.0           0.0   \n",
      "2019-01-01 03:00:00+00:00                            0.0           0.0   \n",
      "2019-01-01 04:00:00+00:00                            0.0           0.0   \n",
      "\n",
      "                           mad_sr_price  rto_mileage_ratio  rto_pr_price  \\\n",
      "time_tomerge                                                               \n",
      "2014-01-01 05:00:00+00:00          6.45           2.091172           0.0   \n",
      "2014-01-01 06:00:00+00:00          5.52           2.867065           0.0   \n",
      "2014-01-01 07:00:00+00:00          1.53           1.587149           0.0   \n",
      "2014-01-01 08:00:00+00:00          4.11           1.688147           0.0   \n",
      "2014-01-01 09:00:00+00:00          3.52           2.076917           0.0   \n",
      "...                                 ...                ...           ...   \n",
      "2019-01-01 00:00:00+00:00          0.00           9.106328           0.0   \n",
      "2019-01-01 01:00:00+00:00          0.00           7.029504           0.0   \n",
      "2019-01-01 02:00:00+00:00          0.00           6.530455           0.0   \n",
      "2019-01-01 03:00:00+00:00          0.00           4.916959           0.0   \n",
      "2019-01-01 04:00:00+00:00          0.00           6.614262           0.0   \n",
      "\n",
      "                           rto_reg_capability_price  ...   hydro  \\\n",
      "time_tomerge                                         ...           \n",
      "2014-01-01 05:00:00+00:00                     27.91  ...     NaN   \n",
      "2014-01-01 06:00:00+00:00                     10.09  ...     NaN   \n",
      "2014-01-01 07:00:00+00:00                      6.45  ...     NaN   \n",
      "2014-01-01 08:00:00+00:00                     17.50  ...     NaN   \n",
      "2014-01-01 09:00:00+00:00                     17.68  ...     NaN   \n",
      "...                                             ...  ...     ...   \n",
      "2019-01-01 00:00:00+00:00                      3.32  ...  3085.4   \n",
      "2019-01-01 01:00:00+00:00                      5.79  ...  2752.2   \n",
      "2019-01-01 02:00:00+00:00                      3.86  ...  2209.0   \n",
      "2019-01-01 03:00:00+00:00                      2.36  ...  2144.6   \n",
      "2019-01-01 04:00:00+00:00                     26.62  ...  2169.1   \n",
      "\n",
      "                           multiple fuels  nuclear    oil  other  \\\n",
      "time_tomerge                                                       \n",
      "2014-01-01 05:00:00+00:00             NaN      NaN    NaN    NaN   \n",
      "2014-01-01 06:00:00+00:00             NaN      NaN    NaN    NaN   \n",
      "2014-01-01 07:00:00+00:00             NaN      NaN    NaN    NaN   \n",
      "2014-01-01 08:00:00+00:00             NaN      NaN    NaN    NaN   \n",
      "2014-01-01 09:00:00+00:00             NaN      NaN    NaN    NaN   \n",
      "...                                   ...      ...    ...    ...   \n",
      "2019-01-01 00:00:00+00:00             4.7  34730.2  211.8   32.3   \n",
      "2019-01-01 01:00:00+00:00             4.7  34721.3  207.6   31.9   \n",
      "2019-01-01 02:00:00+00:00             4.7  34713.5  208.5   31.1   \n",
      "2019-01-01 03:00:00+00:00             3.2  34729.4  210.5   32.3   \n",
      "2019-01-01 04:00:00+00:00             1.6  34704.6  209.3   31.0   \n",
      "\n",
      "                           other renewables  solar    wind       load  \\\n",
      "time_tomerge                                                            \n",
      "2014-01-01 05:00:00+00:00               NaN    NaN     NaN  91392.412   \n",
      "2014-01-01 06:00:00+00:00               NaN    NaN     NaN  89227.554   \n",
      "2014-01-01 07:00:00+00:00               NaN    NaN     NaN  87668.736   \n",
      "2014-01-01 08:00:00+00:00               NaN    NaN     NaN  87062.268   \n",
      "2014-01-01 09:00:00+00:00               NaN    NaN     NaN  87373.595   \n",
      "...                                     ...    ...     ...        ...   \n",
      "2019-01-01 00:00:00+00:00             531.3    4.4  6457.7  89783.241   \n",
      "2019-01-01 01:00:00+00:00             525.3    4.4  6543.4  86139.387   \n",
      "2019-01-01 02:00:00+00:00             532.3    4.4  6175.4  82366.316   \n",
      "2019-01-01 03:00:00+00:00             531.7    4.4  5810.3  78861.563   \n",
      "2019-01-01 04:00:00+00:00             523.5    4.4  5474.5  75325.078   \n",
      "\n",
      "                           gen_wind  \n",
      "time_tomerge                         \n",
      "2014-01-01 05:00:00+00:00    1750.0  \n",
      "2014-01-01 06:00:00+00:00    1351.0  \n",
      "2014-01-01 07:00:00+00:00    1267.0  \n",
      "2014-01-01 08:00:00+00:00    1315.0  \n",
      "2014-01-01 09:00:00+00:00    1448.0  \n",
      "...                             ...  \n",
      "2019-01-01 00:00:00+00:00       NaN  \n",
      "2019-01-01 01:00:00+00:00       NaN  \n",
      "2019-01-01 02:00:00+00:00       NaN  \n",
      "2019-01-01 03:00:00+00:00       NaN  \n",
      "2019-01-01 04:00:00+00:00       NaN  \n",
      "\n",
      "[43824 rows x 46 columns]\n"
     ]
    }
   ],
   "source": [
    "for iso in ISOS:\n",
    "    clean_final(iso, \"final\")"
   ],
   "metadata": {
    "collapsed": false
   }
  },
  {
   "cell_type": "code",
   "execution_count": 26,
   "outputs": [
    {
     "name": "stderr",
     "output_type": "stream",
     "text": [
      "4it [00:03,  1.07it/s]\n"
     ]
    }
   ],
   "source": [
    "#FOR COMBING DATA\n",
    "ISO_done = [\"PJM\"]\n",
    "FILE_PATH = \"/Users/evanlipton/Dropbox (YSE)/Solar_ElectricData/Data/PJM/new\"\n",
    "for file in (listdir_nohidden(FILE_PATH)):\n",
    "    if file in [\"generation\"]:\n",
    "        dfs = []\n",
    "        for f in tqdm(listdir_nohidden(f\"{FILE_PATH}/{file}\")):\n",
    "            df = pd.read_csv(f\"{FILE_PATH}/{file}/{f}\")\n",
    "            #df['Date'] = [f[14:24].replace(\"_\", \"-\") for _ in range(len(df))]\n",
    "            dfs.append(df)\n",
    "\n",
    "        temp = pd.concat(dfs)\n",
    "        os.makedirs(f\"{FILE_PATH}/combined\", exist_ok=True)\n",
    "        temp.to_csv(f\"{FILE_PATH}/combined/{file}.csv\")"
   ],
   "metadata": {
    "collapsed": false
   }
  },
  {
   "cell_type": "code",
   "execution_count": 9,
   "outputs": [
    {
     "data": {
      "text/plain": "Index(['dasr_procurement_price', 'dasr_procurement_quantity', 'dasr_cost',\n       'rto_activation_cost_nonsynchr', 'mad_activation_cost_nonsynchr',\n       'mad_pr_price', 'mad_sr_price', 'rto_mileage_ratio', 'rto_pr_price',\n       'rto_reg_capability_price', 'rto_reg_performance_price', 'rto_sr_price',\n       'mad_pr_reg', 'mad_sr_req', 'rto_pr_req', 'rto_reg_req', 'rto_sr_req',\n       'mad_pr_total', 'mad_sr_total', 'rto_pr_total', 'rto_reg_total',\n       'rto_sr_total', 'rto_reg_activation_quantity', 'energy_da', 'lmp_da',\n       'congestion_da', 'losses_da', 'energy_rt', 'lmp_rt', 'congestion_rt',\n       'losses_rt', 'exchange_rt', 'unnamed: 0', 'gas_price', 'coal', 'gas',\n       'hydro', 'multiple fuels', 'nuclear', 'oil', 'other',\n       'other renewables', 'solar', 'wind', 'load', 'gen_wind'],\n      dtype='object')"
     },
     "execution_count": 9,
     "metadata": {},
     "output_type": "execute_result"
    }
   ],
   "source": [
    "ISO_final[ISO].columns\n"
   ],
   "metadata": {
    "collapsed": false
   }
  },
  {
   "cell_type": "code",
   "execution_count": 27,
   "outputs": [
    {
     "name": "stdout",
     "output_type": "stream",
     "text": [
      "PJM\n"
     ]
    },
    {
     "name": "stderr",
     "output_type": "stream",
     "text": [
      "100%|██████████| 11/11 [00:03<00:00,  2.77it/s]\n"
     ]
    }
   ],
   "source": [
    "ISO_done = [\"PJM\"]\n",
    "FILE_PATH = \"/Users/evanlipton/Dropbox (YSE)/Solar_ElectricData/Data\"\n",
    "new_data = {}\n",
    "for ISO in ISO_done:\n",
    "    sub_folder = f\"{FILE_PATH}/{ISO}/new/combined\"\n",
    "    files = [f for f in listdir(sub_folder) if isfile(join(sub_folder, f)) and f[0]!=\".\"]\n",
    "    new_data[ISO] = {}\n",
    "    print(ISO)\n",
    "    for file in tqdm(files):\n",
    "        new_data[ISO][file.replace(\".csv\", \"\")] = pd.read_csv(f\"{sub_folder}/{file}\")"
   ],
   "metadata": {
    "collapsed": false
   }
  },
  {
   "cell_type": "code",
   "execution_count": 28,
   "outputs": [
    {
     "name": "stdout",
     "output_type": "stream",
     "text": [
      "['solar', 'ancillary_dasr_procurement', 'energy_da', 'ancillary_procurement_price', 'energy_rt', 'wind', 'generation', 'ancillary_nonsynchr_cost', 'load', 'exchange', 'ancillary_procurement_quantity']\n"
     ]
    }
   ],
   "source": [
    "print([key for key in new_data[\"PJM\"]])"
   ],
   "metadata": {
    "collapsed": false
   }
  },
  {
   "cell_type": "code",
   "execution_count": 46,
   "outputs": [
    {
     "name": "stdout",
     "output_type": "stream",
     "text": [
      "              time_tomerge  energy_rt  congestion_rt  losses_rt\n",
      "0      2022-01-01 01:00:00      18.91       0.000251   0.006118\n",
      "23     2022-01-01 02:00:00      18.16       0.000000   0.005346\n",
      "46     2022-01-01 03:00:00      18.50       0.000162   0.005814\n",
      "69     2022-01-01 04:00:00      18.38       0.000711   0.009022\n",
      "92     2022-01-01 05:00:00      18.11      -0.000033   0.006453\n",
      "...                    ...        ...            ...        ...\n",
      "811992 2019-12-30 21:00:00      18.69       0.010342   0.008448\n",
      "812015 2019-12-30 22:00:00      18.50       0.007895   0.008187\n",
      "812038 2019-12-30 23:00:00      17.62       0.006954   0.011930\n",
      "812061 2019-12-31 00:00:00      17.47       0.009210   0.010926\n",
      "812084 2019-12-31 01:00:00      17.41       0.052813   0.009547\n",
      "\n",
      "[35309 rows x 4 columns]\n"
     ]
    },
    {
     "name": "stderr",
     "output_type": "stream",
     "text": [
      "/var/folders/cz/nv3pr_214md_31815rhfvdkh0000gn/T/ipykernel_62008/2457076408.py:3: SettingWithCopyWarning: \n",
      "A value is trying to be set on a copy of a slice from a DataFrame.\n",
      "Try using .loc[row_indexer,col_indexer] = value instead\n",
      "\n",
      "See the caveats in the documentation: https://pandas.pydata.org/pandas-docs/stable/user_guide/indexing.html#returning-a-view-versus-a-copy\n",
      "  energy_rt[\"time_tomerge\"] = pd.to_datetime(energy_rt[\"datetime_beginning_ept\"]) + timedelta(hours=1)\n"
     ]
    }
   ],
   "source": [
    "energy_rt = new_data[\"PJM\"][\"energy_rt\"]\n",
    "energy_rt = energy_rt[energy_rt[\"pnode_name\"] == \"PJM-RTO\"]\n",
    "energy_rt[\"time_tomerge\"] = pd.to_datetime(energy_rt[\"datetime_beginning_ept\"]) + timedelta(hours=1)\n",
    "energy_rt = energy_rt[[\"time_tomerge\", \"system_energy_price_rt\", \"congestion_price_rt\", \"marginal_loss_price_rt\"]].rename(columns={\"system_energy_price_rt\": \"energy_rt\", \"congestion_price_rt\": \"congestion_rt\", \"marginal_loss_price_rt\": \"losses_rt\"})\n",
    "print(energy_rt)"
   ],
   "metadata": {
    "collapsed": false
   }
  },
  {
   "cell_type": "code",
   "execution_count": 48,
   "outputs": [
    {
     "name": "stdout",
     "output_type": "stream",
     "text": [
      "              time_tomerge  energy_da  congestion_da  losses_da\n",
      "0      2019-01-01 01:00:00      18.96      -0.017594   0.048129\n",
      "23     2019-01-01 02:00:00      18.80      -0.025540  -0.008323\n",
      "46     2019-01-01 03:00:00      18.57      -0.014702  -0.027308\n",
      "69     2019-01-01 04:00:00      18.40      -0.016699  -0.018047\n",
      "92     2019-01-01 05:00:00      18.57      -0.010931  -0.023695\n",
      "...                    ...        ...            ...        ...\n",
      "804264 2020-12-30 21:00:00      22.03       0.125627   0.266690\n",
      "804287 2020-12-30 22:00:00      20.53       0.058729   0.228399\n",
      "804310 2020-12-30 23:00:00      18.78       0.007678   0.117070\n",
      "804333 2020-12-31 00:00:00      18.10       0.070194   0.130718\n",
      "804356 2020-12-31 01:00:00      17.25       0.329560   0.024265\n",
      "\n",
      "[34973 rows x 4 columns]\n"
     ]
    },
    {
     "name": "stderr",
     "output_type": "stream",
     "text": [
      "/var/folders/cz/nv3pr_214md_31815rhfvdkh0000gn/T/ipykernel_62008/811313519.py:3: SettingWithCopyWarning: \n",
      "A value is trying to be set on a copy of a slice from a DataFrame.\n",
      "Try using .loc[row_indexer,col_indexer] = value instead\n",
      "\n",
      "See the caveats in the documentation: https://pandas.pydata.org/pandas-docs/stable/user_guide/indexing.html#returning-a-view-versus-a-copy\n",
      "  energy_da[\"time_tomerge\"] = pd.to_datetime(energy_da[\"datetime_beginning_ept\"]) + timedelta(hours=1)\n"
     ]
    }
   ],
   "source": [
    "energy_da = new_data[\"PJM\"][\"energy_da\"]\n",
    "energy_da = energy_da[energy_da[\"pnode_name\"] == \"PJM-RTO\"]\n",
    "energy_da[\"time_tomerge\"] = pd.to_datetime(energy_da[\"datetime_beginning_ept\"]) + timedelta(hours=1)\n",
    "energy_da = energy_da[[\"time_tomerge\", \"system_energy_price_da\", \"congestion_price_da\", \"marginal_loss_price_da\"]].rename(columns={\"system_energy_price_da\": \"energy_da\", \"congestion_price_da\": \"congestion_da\", \"marginal_loss_price_da\": \"losses_da\"})\n",
    "print(energy_da)"
   ],
   "metadata": {
    "collapsed": false
   }
  },
  {
   "cell_type": "code",
   "execution_count": 52,
   "outputs": [
    {
     "name": "stdout",
     "output_type": "stream",
     "text": [
      "             time_tomerge       load\n",
      "0     2020-01-01 01:00:00  79182.471\n",
      "1     2020-01-01 02:00:00  77573.714\n",
      "2     2020-01-01 03:00:00  76202.136\n",
      "3     2020-01-01 04:00:00  75674.034\n",
      "4     2020-01-01 05:00:00  76238.041\n",
      "...                   ...        ...\n",
      "35059 2019-12-31 20:00:00  92784.789\n",
      "35060 2019-12-31 21:00:00  90016.822\n",
      "35061 2019-12-31 22:00:00  87332.351\n",
      "35062 2019-12-31 23:00:00  84430.223\n",
      "35063 2020-01-01 00:00:00  81522.416\n",
      "\n",
      "[35064 rows x 2 columns]\n"
     ]
    }
   ],
   "source": [
    "load = new_data[\"PJM\"][\"load\"]\n",
    "load[\"time_tomerge\"] = pd.to_datetime(load[\"datetime_beginning_ept\"]) + timedelta(hours=1)\n",
    "load = load[[\"time_tomerge\", \"mw\"]].rename(columns={\"mw\":\"load\"})\n",
    "print(load)"
   ],
   "metadata": {
    "collapsed": false
   }
  },
  {
   "cell_type": "code",
   "execution_count": 78,
   "outputs": [
    {
     "data": {
      "text/plain": "             time_tomerge  exchange_positive  exchange_negative  exchange\n0     2019-01-01 01:00:00            1273.75           -4706.00  -3432.25\n1     2019-01-01 02:00:00            1582.00           -5814.50  -4232.50\n2     2019-01-01 03:00:00            1656.75           -5607.25  -3950.50\n3     2019-01-01 04:00:00            1668.25           -5574.00  -3905.75\n4     2019-01-01 05:00:00            1455.00           -5908.00  -4453.00\n...                   ...                ...                ...       ...\n32856 2022-12-30 21:00:00             982.00           -3632.25  -2650.25\n32857 2022-12-30 22:00:00             771.00           -3568.75  -2797.75\n32858 2022-12-30 23:00:00            1152.50           -3669.00  -2516.50\n32859 2022-12-31 00:00:00            1587.50           -3638.75  -2051.25\n32860 2022-12-31 01:00:00            1224.00           -4161.00  -2937.00\n\n[32861 rows x 4 columns]",
      "text/html": "<div>\n<style scoped>\n    .dataframe tbody tr th:only-of-type {\n        vertical-align: middle;\n    }\n\n    .dataframe tbody tr th {\n        vertical-align: top;\n    }\n\n    .dataframe thead th {\n        text-align: right;\n    }\n</style>\n<table border=\"1\" class=\"dataframe\">\n  <thead>\n    <tr style=\"text-align: right;\">\n      <th></th>\n      <th>time_tomerge</th>\n      <th>exchange_positive</th>\n      <th>exchange_negative</th>\n      <th>exchange</th>\n    </tr>\n  </thead>\n  <tbody>\n    <tr>\n      <th>0</th>\n      <td>2019-01-01 01:00:00</td>\n      <td>1273.75</td>\n      <td>-4706.00</td>\n      <td>-3432.25</td>\n    </tr>\n    <tr>\n      <th>1</th>\n      <td>2019-01-01 02:00:00</td>\n      <td>1582.00</td>\n      <td>-5814.50</td>\n      <td>-4232.50</td>\n    </tr>\n    <tr>\n      <th>2</th>\n      <td>2019-01-01 03:00:00</td>\n      <td>1656.75</td>\n      <td>-5607.25</td>\n      <td>-3950.50</td>\n    </tr>\n    <tr>\n      <th>3</th>\n      <td>2019-01-01 04:00:00</td>\n      <td>1668.25</td>\n      <td>-5574.00</td>\n      <td>-3905.75</td>\n    </tr>\n    <tr>\n      <th>4</th>\n      <td>2019-01-01 05:00:00</td>\n      <td>1455.00</td>\n      <td>-5908.00</td>\n      <td>-4453.00</td>\n    </tr>\n    <tr>\n      <th>...</th>\n      <td>...</td>\n      <td>...</td>\n      <td>...</td>\n      <td>...</td>\n    </tr>\n    <tr>\n      <th>32856</th>\n      <td>2022-12-30 21:00:00</td>\n      <td>982.00</td>\n      <td>-3632.25</td>\n      <td>-2650.25</td>\n    </tr>\n    <tr>\n      <th>32857</th>\n      <td>2022-12-30 22:00:00</td>\n      <td>771.00</td>\n      <td>-3568.75</td>\n      <td>-2797.75</td>\n    </tr>\n    <tr>\n      <th>32858</th>\n      <td>2022-12-30 23:00:00</td>\n      <td>1152.50</td>\n      <td>-3669.00</td>\n      <td>-2516.50</td>\n    </tr>\n    <tr>\n      <th>32859</th>\n      <td>2022-12-31 00:00:00</td>\n      <td>1587.50</td>\n      <td>-3638.75</td>\n      <td>-2051.25</td>\n    </tr>\n    <tr>\n      <th>32860</th>\n      <td>2022-12-31 01:00:00</td>\n      <td>1224.00</td>\n      <td>-4161.00</td>\n      <td>-2937.00</td>\n    </tr>\n  </tbody>\n</table>\n<p>32861 rows × 4 columns</p>\n</div>"
     },
     "execution_count": 78,
     "metadata": {},
     "output_type": "execute_result"
    }
   ],
   "source": [
    "exchange = new_data[\"PJM\"][\"exchange\"]\n",
    "exchange_average = pd.DataFrame()\n",
    "exchange_average[\"time_tomerge\"] = np.unique(pd.to_datetime(exchange[\"datetime_ending_ept\"]))\n",
    "exchange_average = exchange_average.merge(exchange[exchange[\"hrly_net_tie_sched\"]>0].groupby([\"time_tomerge\"])[\"hrly_net_tie_sched\"].sum(), on = \"time_tomerge\").rename(columns = {\"hrly_net_tie_sched\": \"exchange_positive\"})\n",
    "exchange_average = exchange_average.merge(exchange[exchange[\"hrly_net_tie_sched\"]<0].groupby([\"time_tomerge\"])[\"hrly_net_tie_sched\"].sum(), on = \"time_tomerge\").rename(columns = {\"hrly_net_tie_sched\": \"exchange_negative\"})\n",
    "exchange_average = exchange_average.merge(exchange.groupby([\"time_tomerge\"])[\"hrly_net_tie_sched\"].sum(), on = \"time_tomerge\").rename(columns = {\"hrly_net_tie_sched\": \"exchange\"})\n",
    "exchange_average"
   ],
   "metadata": {
    "collapsed": false
   }
  },
  {
   "cell_type": "code",
   "execution_count": 81,
   "outputs": [],
   "source": [
    "generation = new_data[\"PJM\"][\"generation\"]\n",
    "generation[\"time_tomerge\"] = pd.to_datetime(generation[\"datetime_beginning_ept\"]) + timedelta(hours=1)\n"
   ],
   "metadata": {
    "collapsed": false
   }
  },
  {
   "cell_type": "code",
   "execution_count": 88,
   "outputs": [],
   "source": [
    "generation = generation.reset_index()"
   ],
   "metadata": {
    "collapsed": false
   }
  },
  {
   "cell_type": "code",
   "execution_count": null,
   "outputs": [],
   "source": [
    "pd.pivot(generation, index=\"index\", columns=[\"fuel_type\", \"time_tomerge\"], values=\"mw\")"
   ],
   "metadata": {
    "collapsed": false,
    "pycharm": {
     "is_executing": true
    }
   }
  },
  {
   "cell_type": "code",
   "execution_count": 89,
   "outputs": [
    {
     "name": "stdout",
     "output_type": "stream",
     "text": [
      "         index  Unnamed: 0 datetime_beginning_utc  datetime_beginning_ept  \\\n",
      "0            0           0  12/31/2022 5:00:00 AM  12/31/2022 12:00:00 AM   \n",
      "1            1           1  12/31/2022 5:00:00 AM  12/31/2022 12:00:00 AM   \n",
      "2            2           2  12/31/2022 5:00:00 AM  12/31/2022 12:00:00 AM   \n",
      "3            3           3  12/31/2022 5:00:00 AM  12/31/2022 12:00:00 AM   \n",
      "4            4           4  12/31/2022 5:00:00 AM  12/31/2022 12:00:00 AM   \n",
      "...        ...         ...                    ...                     ...   \n",
      "384607  384607       96091    1/1/2019 5:00:00 AM    1/1/2019 12:00:00 AM   \n",
      "384608  384608       96092    1/1/2019 5:00:00 AM    1/1/2019 12:00:00 AM   \n",
      "384609  384609       96093    1/1/2019 5:00:00 AM    1/1/2019 12:00:00 AM   \n",
      "384610  384610       96094    1/1/2019 5:00:00 AM    1/1/2019 12:00:00 AM   \n",
      "384611  384611       96095    1/1/2019 5:00:00 AM    1/1/2019 12:00:00 AM   \n",
      "\n",
      "               fuel_type       mw  fuel_percentage_of_total  is_renewable  \\\n",
      "0                   Coal  13130.7                      0.16         False   \n",
      "1                    Gas  29708.9                      0.37         False   \n",
      "2                  Hydro    859.0                      0.01          True   \n",
      "3         Multiple Fuels      3.2                      0.00         False   \n",
      "4                Nuclear  33960.7                      0.42         False   \n",
      "...                  ...      ...                       ...           ...   \n",
      "384607             Other     33.1                      0.00         False   \n",
      "384608  Other Renewables    521.1                      0.01          True   \n",
      "384609             Solar      4.4                      0.00          True   \n",
      "384610           Storage      0.0                      0.00         False   \n",
      "384611              Wind   4927.1                      0.06          True   \n",
      "\n",
      "              time_tomerge  \n",
      "0      2022-12-31 01:00:00  \n",
      "1      2022-12-31 01:00:00  \n",
      "2      2022-12-31 01:00:00  \n",
      "3      2022-12-31 01:00:00  \n",
      "4      2022-12-31 01:00:00  \n",
      "...                    ...  \n",
      "384607 2019-01-01 01:00:00  \n",
      "384608 2019-01-01 01:00:00  \n",
      "384609 2019-01-01 01:00:00  \n",
      "384610 2019-01-01 01:00:00  \n",
      "384611 2019-01-01 01:00:00  \n",
      "\n",
      "[384612 rows x 9 columns]\n"
     ]
    }
   ],
   "source": [
    "print(generation)"
   ],
   "metadata": {
    "collapsed": false
   }
  },
  {
   "cell_type": "code",
   "execution_count": null,
   "outputs": [],
   "source": [],
   "metadata": {
    "collapsed": false
   }
  }
 ],
 "metadata": {
  "kernelspec": {
   "display_name": "Python 3",
   "language": "python",
   "name": "python3"
  },
  "language_info": {
   "codemirror_mode": {
    "name": "ipython",
    "version": 2
   },
   "file_extension": ".py",
   "mimetype": "text/x-python",
   "name": "python",
   "nbconvert_exporter": "python",
   "pygments_lexer": "ipython2",
   "version": "2.7.6"
  }
 },
 "nbformat": 4,
 "nbformat_minor": 0
}
