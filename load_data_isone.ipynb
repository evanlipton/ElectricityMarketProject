{
 "cells": [
  {
   "cell_type": "code",
   "execution_count": 1,
   "outputs": [],
   "source": [
    "import numpy as np\n",
    "import pandas as pd\n",
    "import os\n",
    "import re\n",
    "from tqdm import tqdm\n",
    "import requests\n",
    "from io import StringIO\n",
    "from os import listdir\n",
    "from os.path import isfile, join\n",
    "import datetime as dt\n",
    "from datetime import datetime, timedelta\n",
    "\n",
    "import gridstatus"
   ],
   "metadata": {
    "collapsed": false
   }
  },
  {
   "cell_type": "code",
   "execution_count": 2,
   "outputs": [],
   "source": [
    "def listdir_nohidden(path):\n",
    "    for f in os.listdir(path):\n",
    "        if not f.startswith('.'):\n",
    "            yield f\n",
    "\n"
   ],
   "metadata": {
    "collapsed": false
   }
  },
  {
   "cell_type": "code",
   "execution_count": 3,
   "outputs": [],
   "source": [
    "FILE_PATH = \"/Users/evanlipton/Dropbox (YSE)/Solar_ElectricData/Data\""
   ],
   "metadata": {
    "collapsed": false
   }
  },
  {
   "cell_type": "code",
   "execution_count": 4,
   "outputs": [],
   "source": [
    "ISOS = [\"ISONE\"]"
   ],
   "metadata": {
    "collapsed": false
   }
  },
  {
   "cell_type": "code",
   "execution_count": 5,
   "outputs": [
    {
     "name": "stderr",
     "output_type": "stream",
     "text": [
      "19it [00:01, 10.33it/s]\n"
     ]
    }
   ],
   "source": [
    "ISO_files = {}\n",
    "ISO_data = {}\n",
    "ISO_final = {}\n",
    "\n",
    "#load in\n",
    "for ISO in ISOS:\n",
    "    ISO_files[ISO] = listdir_nohidden(f\"{FILE_PATH}/{ISO}/old\")\n",
    "    ISO_data[ISO] = {}\n",
    "    for file in tqdm(ISO_files[ISO]):\n",
    "        compiled = re.compile(re.escape(f\"{ISO}_\"), re.IGNORECASE)\n",
    "\n",
    "        ISO_data[ISO][compiled.sub(\"\", file).replace(\".csv\",\"\")] = pd.read_csv(f\"{FILE_PATH}/{ISO}/old/{file}\")"
   ],
   "metadata": {
    "collapsed": false
   }
  },
  {
   "cell_type": "code",
   "execution_count": 6,
   "outputs": [
    {
     "name": "stdout",
     "output_type": "stream",
     "text": [
      "ISONE\n"
     ]
    }
   ],
   "source": [
    "#add merge datetime\n",
    "titles = {}\n",
    "for key in ISO_data:\n",
    "    print(key)\n",
    "    titles[key]= []\n",
    "    for k in ISO_data[key]:\n",
    "        try:\n",
    "            ISO_data[key][k][\"time_tomerge\"] = pd.to_datetime(ISO_data[key][k].iloc[:,0], utc=True)\n",
    "        except:\n",
    "            ISO_data[key][k] = ISO_data[key][k][ISO_data[key][k].index % 24 != 0]\n",
    "            ISO_data[key][k][\"time_tomerge\"] = pd.to_datetime(ISO_data[key][k].iloc[:,0], utc=True)\n",
    "            print(type(ISO_data[key][k][\"time_tomerge\"]))"
   ],
   "metadata": {
    "collapsed": false
   }
  },
  {
   "cell_type": "code",
   "execution_count": 7,
   "outputs": [],
   "source": [
    "ISO_final = {}\n",
    "def clean_final(ISO: str, df: str):\n",
    "    ISO_data[ISO][df].columns = ISO_data[ISO][df].columns.str.lower()\n",
    "    no_date = [col for col in ISO_data[ISO][df].columns if \"date\" not in col]\n",
    "    ISO_data[ISO][df] = ISO_data[ISO][df][no_date]\n",
    "    try:\n",
    "        ISO_data[ISO][df] = ISO_data[ISO][df].drop(\"unnamed: 0\")\n",
    "        ISO_data[ISO][df] = ISO_data[ISO][df].drop(\"hour\")\n",
    "    except:\n",
    "        pass\n",
    "    ISO_data[ISO][df] = ISO_data[ISO][df].sort_values(by=\"time_tomerge\")\n",
    "    ISO_data[ISO][df] = ISO_data[ISO][df].set_index(\"time_tomerge\")\n",
    "    ISO_final[ISO] = ISO_data[ISO][df]\n",
    "    for column in ISO_final[ISO].columns:\n",
    "        if str(ISO).lower() in column:\n",
    "            ISO_final[ISO] = ISO_final[ISO].rename(columns={column: column.replace(f\"{str(ISO).lower()}_\",\"\")})\n",
    "    print(ISO_final[ISO])"
   ],
   "metadata": {
    "collapsed": false
   }
  },
  {
   "cell_type": "code",
   "execution_count": 9,
   "outputs": [
    {
     "name": "stdout",
     "output_type": "stream",
     "text": [
      "                           congestion_da  congestion_rt  energy_da  energy_rt  \\\n",
      "time_tomerge                                                                    \n",
      "2014-01-01 05:00:00+00:00            0.0        0.00000      62.04     117.43   \n",
      "2014-01-01 06:00:00+00:00            0.0        0.00000      54.65     148.38   \n",
      "2014-01-01 07:00:00+00:00            0.0        0.00000      38.40      97.06   \n",
      "2014-01-01 08:00:00+00:00            0.0        0.00000      38.02      38.54   \n",
      "2014-01-01 09:00:00+00:00            0.0        0.00000      37.48      79.01   \n",
      "...                                  ...            ...        ...        ...   \n",
      "2019-01-01 00:00:00+00:00            0.0       -0.01875      69.19      24.96   \n",
      "2019-01-01 01:00:00+00:00            0.0       -0.01125      68.83      21.33   \n",
      "2019-01-01 02:00:00+00:00            0.0        0.00000      59.21      22.37   \n",
      "2019-01-01 03:00:00+00:00            0.0        0.00000      53.27      24.91   \n",
      "2019-01-01 04:00:00+00:00            0.0        0.00000      56.03      39.89   \n",
      "\n",
      "                           exchange_rt                 unnamed: 0  gas_price  \\\n",
      "time_tomerge                                                                   \n",
      "2014-01-01 05:00:00+00:00     -3134.00  2014-01-01 00:00:00-05:00  20.151667   \n",
      "2014-01-01 06:00:00+00:00     -3168.00  2014-01-01 01:00:00-05:00  20.151667   \n",
      "2014-01-01 07:00:00+00:00     -3550.00  2014-01-01 02:00:00-05:00  20.151667   \n",
      "2014-01-01 08:00:00+00:00     -3883.00  2014-01-01 03:00:00-05:00  20.151667   \n",
      "2014-01-01 09:00:00+00:00     -3806.00  2014-01-01 04:00:00-05:00  20.151667   \n",
      "...                                ...                        ...        ...   \n",
      "2019-01-01 00:00:00+00:00     -2806.00  2018-12-31 19:00:00-05:00   3.342333   \n",
      "2019-01-01 01:00:00+00:00     -2731.00  2018-12-31 20:00:00-05:00   3.342333   \n",
      "2019-01-01 02:00:00+00:00     -3036.75  2018-12-31 21:00:00-05:00   3.342333   \n",
      "2019-01-01 03:00:00+00:00     -2898.25  2018-12-31 22:00:00-05:00   3.342333   \n",
      "2019-01-01 04:00:00+00:00     -2466.50  2018-12-31 23:00:00-05:00   3.342333   \n",
      "\n",
      "                           gen_coal    gen_hydro  gen_landfillgas  ...  \\\n",
      "time_tomerge                                                       ...   \n",
      "2014-01-01 05:00:00+00:00       NaN          NaN              NaN  ...   \n",
      "2014-01-01 06:00:00+00:00       NaN          NaN              NaN  ...   \n",
      "2014-01-01 07:00:00+00:00       NaN          NaN              NaN  ...   \n",
      "2014-01-01 08:00:00+00:00       NaN          NaN              NaN  ...   \n",
      "2014-01-01 09:00:00+00:00       NaN          NaN              NaN  ...   \n",
      "...                             ...          ...              ...  ...   \n",
      "2019-01-01 00:00:00+00:00  3.142857  1418.142857        25.000000  ...   \n",
      "2019-01-01 01:00:00+00:00  2.000000  1218.875000        25.000000  ...   \n",
      "2019-01-01 02:00:00+00:00  2.750000  1050.714286        25.000000  ...   \n",
      "2019-01-01 03:00:00+00:00  1.000000  1038.000000        25.222222  ...   \n",
      "2019-01-01 04:00:00+00:00       NaN  1426.666667        25.888889  ...   \n",
      "\n",
      "                             gen_wood   load_rt  losses_da  losses_rt  \\\n",
      "time_tomerge                                                            \n",
      "2014-01-01 05:00:00+00:00         NaN  14312.05   -0.17375   -0.05125   \n",
      "2014-01-01 06:00:00+00:00         NaN  14235.98   -0.15500   -0.02375   \n",
      "2014-01-01 07:00:00+00:00         NaN  14364.54   -0.07500   -0.02875   \n",
      "2014-01-01 08:00:00+00:00         NaN  14258.79   -0.09625   -0.03625   \n",
      "2014-01-01 09:00:00+00:00         NaN  14300.04   -0.08875   -0.08000   \n",
      "...                               ...       ...        ...        ...   \n",
      "2019-01-01 00:00:00+00:00  356.000000  14829.33   -0.27375   -0.02500   \n",
      "2019-01-01 01:00:00+00:00  354.375000  14118.90   -0.32500   -0.03250   \n",
      "2019-01-01 02:00:00+00:00  352.142857  13481.26   -0.27625   -0.01625   \n",
      "2019-01-01 03:00:00+00:00  352.666667  12795.10   -0.22875   -0.01375   \n",
      "2019-01-01 04:00:00+00:00  362.888889  12131.76   -0.19000   -0.03875   \n",
      "\n",
      "                           regulation_price  regulation_quantity  \\\n",
      "time_tomerge                                                       \n",
      "2014-01-01 05:00:00+00:00             38.92                38.92   \n",
      "2014-01-01 06:00:00+00:00             59.24                59.24   \n",
      "2014-01-01 07:00:00+00:00             43.18                43.18   \n",
      "2014-01-01 08:00:00+00:00             81.93                81.93   \n",
      "2014-01-01 09:00:00+00:00             49.27                49.27   \n",
      "...                                     ...                  ...   \n",
      "2019-01-01 00:00:00+00:00               NaN                  NaN   \n",
      "2019-01-01 01:00:00+00:00               NaN                  NaN   \n",
      "2019-01-01 02:00:00+00:00               NaN                  NaN   \n",
      "2019-01-01 03:00:00+00:00               NaN                  NaN   \n",
      "2019-01-01 04:00:00+00:00               NaN                  NaN   \n",
      "\n",
      "                           reserves_price  reserves_quantity  gen_solar2  \\\n",
      "time_tomerge                                                               \n",
      "2014-01-01 05:00:00+00:00            0.00            526.100         0.0   \n",
      "2014-01-01 06:00:00+00:00            0.00            441.233         0.0   \n",
      "2014-01-01 07:00:00+00:00            0.00            541.325         0.0   \n",
      "2014-01-01 08:00:00+00:00            0.00            641.900         0.0   \n",
      "2014-01-01 09:00:00+00:00            0.00            651.575         0.0   \n",
      "...                                   ...                ...         ...   \n",
      "2019-01-01 00:00:00+00:00            0.00            480.533         0.0   \n",
      "2019-01-01 01:00:00+00:00            0.00            469.825         0.0   \n",
      "2019-01-01 02:00:00+00:00            0.00            282.300         0.0   \n",
      "2019-01-01 03:00:00+00:00            0.11            185.142         0.0   \n",
      "2019-01-01 04:00:00+00:00           27.05            215.475         0.0   \n",
      "\n",
      "                           gen_wind2  \n",
      "time_tomerge                          \n",
      "2014-01-01 05:00:00+00:00    326.311  \n",
      "2014-01-01 06:00:00+00:00    315.052  \n",
      "2014-01-01 07:00:00+00:00    313.679  \n",
      "2014-01-01 08:00:00+00:00    339.119  \n",
      "2014-01-01 09:00:00+00:00    323.333  \n",
      "...                              ...  \n",
      "2019-01-01 00:00:00+00:00    442.529  \n",
      "2019-01-01 01:00:00+00:00    481.186  \n",
      "2019-01-01 02:00:00+00:00    521.210  \n",
      "2019-01-01 03:00:00+00:00    538.620  \n",
      "2019-01-01 04:00:00+00:00    625.168  \n",
      "\n",
      "[43824 rows x 27 columns]\n"
     ]
    }
   ],
   "source": [
    "for iso in ISOS:\n",
    "    clean_final(iso, \"all_data\")"
   ],
   "metadata": {
    "collapsed": false
   }
  },
  {
   "cell_type": "code",
   "execution_count": 10,
   "outputs": [
    {
     "data": {
      "text/plain": "Index(['congestion_da', 'congestion_rt', 'energy_da', 'energy_rt',\n       'exchange_rt', 'unnamed: 0', 'gas_price', 'gen_coal', 'gen_hydro',\n       'gen_landfillgas', 'gen_gas', 'gen_nuclear', 'gen_oil', 'gen_other',\n       'gen_refuse', 'gen_solar', 'gen_wind', 'gen_wood', 'load_rt',\n       'losses_da', 'losses_rt', 'regulation_price', 'regulation_quantity',\n       'reserves_price', 'reserves_quantity', 'gen_solar2', 'gen_wind2'],\n      dtype='object')"
     },
     "execution_count": 10,
     "metadata": {},
     "output_type": "execute_result"
    }
   ],
   "source": [
    "ISO_final[\"ISONE\"].columns"
   ],
   "metadata": {
    "collapsed": false
   }
  },
  {
   "cell_type": "code",
   "execution_count": 11,
   "outputs": [],
   "source": [
    "from datetime import datetime, timedelta\n",
    "def date_range(start_date, end_date):\n",
    "    date_list = []\n",
    "    current = start_date\n",
    "    end_dt = end_date\n",
    "    for n in range(int((end_dt - current).days)+1):\n",
    "        d = current + timedelta(n)\n",
    "        date_list.append(d.strftime('%Y-%m-%d'))\n",
    "    return [date.replace(\"-\", \"\") for date in date_list]\n",
    "\n",
    "\n"
   ],
   "metadata": {
    "collapsed": false
   }
  },
  {
   "cell_type": "markdown",
   "source": [
    "##FOR COMBINING DATA\n",
    "ISO_done = [\"ISONE\"]\n",
    "FILE_PATH = \"/Users/evanlipton/Dropbox (YSE)/Solar_ElectricData/Data/ISONE/new\"\n",
    "for file in (listdir_nohidden(FILE_PATH)):\n",
    "    if file in [\"wind_gen\", \"solar_gen\"]:\n",
    "        dfs = []\n",
    "        try:\n",
    "            for f in tqdm(listdir_nohidden(f\"{FILE_PATH}/{file}\")):\n",
    "                dfs.append(pd.read_csv(f\"{FILE_PATH}/{file}/{f}\", skiprows=4).iloc[1:,:])\n",
    "        except:\n",
    "            for f in tqdm(listdir_nohidden(f\"{FILE_PATH}/{file}\")):\n",
    "                print(f)\n",
    "                dfs.append(pd.read_csv(f\"{FILE_PATH}/{file}/{f}\"))\n",
    "        temp = pd.concat(dfs)\n",
    "        os.makedirs(f\"{FILE_PATH}/combined\", exist_ok=True)\n",
    "        temp.to_csv(f\"{FILE_PATH}/combined/{file}.csv\")"
   ],
   "metadata": {
    "collapsed": false
   }
  },
  {
   "cell_type": "code",
   "execution_count": 47,
   "outputs": [
    {
     "name": "stderr",
     "output_type": "stream",
     "text": [
      "/usr/local/lib/python3.8/site-packages/IPython/core/interactiveshell.py:3442: DtypeWarning: Columns (3) have mixed types.Specify dtype option on import or set low_memory=False.\n",
      "  exec(code_obj, self.user_global_ns, self.user_ns)\n"
     ]
    }
   ],
   "source": [
    "energy_da = pd.read_csv(\"/Users/evanlipton/Dropbox (YSE)/Solar_ElectricData/Data/ISONE/new/combined/energy_da.csv\")\n",
    "energy_da = energy_da[energy_da[\"Location Name\"] == \".H.INTERNAL_HUB\"]\n",
    "energy_rt = pd.read_csv(\"/Users/evanlipton/Dropbox (YSE)/Solar_ElectricData/Data/ISONE/new/combined/energy_rt.csv\")\n",
    "energy_rt = energy_rt[energy_rt[\"Location Name\"] == \".H.INTERNAL_HUB\"]\n"
   ],
   "metadata": {
    "collapsed": false
   }
  },
  {
   "cell_type": "code",
   "execution_count": 47,
   "outputs": [],
   "source": [],
   "metadata": {
    "collapsed": false
   }
  },
  {
   "cell_type": "code",
   "execution_count": 47,
   "outputs": [],
   "source": [],
   "metadata": {
    "collapsed": false
   }
  },
  {
   "cell_type": "code",
   "execution_count": 48,
   "outputs": [],
   "source": [
    "def clean_frame(energy: pd.DataFrame, group_cols: list, to_keep_cols: list, date_format: str):\n",
    "\n",
    "    #remove the daylight savings hours\n",
    "    energy= energy[energy[group_cols[1]] != \"02X\"]\n",
    "\n",
    "    #groupby and average\n",
    "    energy_mean = pd.DataFrame(energy.groupby(group_cols)[to_keep_cols].mean())\n",
    "\n",
    "    #construct the times\n",
    "    time_tomerge = []\n",
    "\n",
    "    for i in tqdm(range(len(energy_mean))):\n",
    "        try:\n",
    "            time_tomerge.append(datetime.strptime(str(energy_mean.index[i][0]), date_format) + timedelta(hours = int(energy_mean.index[i][1])))\n",
    "        except:\n",
    "            print(energy_mean.index[i])\n",
    "\n",
    "\n",
    "    energy_mean['time_tomerge'] = time_tomerge\n",
    "    energy_mean = energy_mean.sort_values(by='time_tomerge')\n",
    "    energy_mean = energy_mean.reset_index(drop=True)\n",
    "\n",
    "    return energy_mean"
   ],
   "metadata": {
    "collapsed": false
   }
  },
  {
   "cell_type": "code",
   "execution_count": 49,
   "outputs": [
    {
     "name": "stderr",
     "output_type": "stream",
     "text": [
      "100%|██████████| 35060/35060 [00:01<00:00, 26490.33it/s]\n",
      "100%|██████████| 35012/35012 [00:01<00:00, 24609.44it/s]\n"
     ]
    }
   ],
   "source": [
    "energy_da = clean_frame(energy_da, ['Date', \"Hour Ending\"], ['Locational Marginal Price', 'Energy Component', 'Congestion Component', 'Marginal Loss Component'],'%m/%d/%Y')\n",
    "energy_rt = clean_frame(energy_rt, ['Date', \"Hour Ending\"], ['Locational Marginal Price', 'Energy Component', 'Congestion Component', 'Marginal Loss Component'], '%m/%d/%Y')\n"
   ],
   "metadata": {
    "collapsed": false
   }
  },
  {
   "cell_type": "code",
   "execution_count": 50,
   "outputs": [
    {
     "name": "stdout",
     "output_type": "stream",
     "text": [
      "       Locational Marginal Price  Energy Component  Congestion Component  \\\n",
      "0                          35.65             35.42                  0.04   \n",
      "1                          38.63             38.38                  0.00   \n",
      "2                          21.23             21.09                  0.00   \n",
      "3                          18.45             18.29                  0.03   \n",
      "4                           7.54              7.48                  0.01   \n",
      "...                          ...               ...                   ...   \n",
      "35007                      26.36             26.27                  0.00   \n",
      "35008                      25.38             25.31                  0.00   \n",
      "35009                      31.80             31.69                  0.00   \n",
      "35010                      44.29             44.16                  0.00   \n",
      "35011                      58.75             58.63                  0.00   \n",
      "\n",
      "       Marginal Loss Component        time_tomerge  \n",
      "0                         0.19 2019-01-01 01:00:00  \n",
      "1                         0.25 2019-01-01 02:00:00  \n",
      "2                         0.14 2019-01-01 03:00:00  \n",
      "3                         0.13 2019-01-01 04:00:00  \n",
      "4                         0.05 2019-01-01 05:00:00  \n",
      "...                        ...                 ...  \n",
      "35007                     0.09 2022-12-31 20:00:00  \n",
      "35008                     0.07 2022-12-31 21:00:00  \n",
      "35009                     0.11 2022-12-31 22:00:00  \n",
      "35010                     0.13 2022-12-31 23:00:00  \n",
      "35011                     0.12 2023-01-01 00:00:00  \n",
      "\n",
      "[35012 rows x 5 columns]\n"
     ]
    }
   ],
   "source": [
    "print(energy_rt)"
   ],
   "metadata": {
    "collapsed": false
   }
  },
  {
   "cell_type": "code",
   "execution_count": 53,
   "outputs": [
    {
     "name": "stdout",
     "output_type": "stream",
     "text": [
      "['.I.HQHIGATE120 2' '.I.HQ_P1_P2345 5' '.I.NRTHPORT138 5'\n",
      " '.I.ROSETON 345 1' '.I.SALBRYNB345 1' '.I.SHOREHAM138 99' '144 lines'\n",
      " '1872 lines' '2016 lines' '2022 lines' '2088 lines' '2142 lines'\n",
      " '2148 lines' '2154 lines' '2160 lines']\n"
     ]
    },
    {
     "name": "stderr",
     "output_type": "stream",
     "text": [
      "100%|██████████| 35034/35034 [00:01<00:00, 27647.02it/s]\n"
     ]
    },
    {
     "name": "stdout",
     "output_type": "stream",
     "text": [
      "       Actual Interchange   Purchases       Sales        time_tomerge\n",
      "0             -458.916667 -619.458333  160.541667 2019-01-01 01:00:00\n",
      "1             -454.416667 -603.875000  149.458333 2019-01-01 02:00:00\n",
      "2             -482.083333 -613.625000  131.541667 2019-01-01 03:00:00\n",
      "3             -486.875000 -679.625000  192.750000 2019-01-01 04:00:00\n",
      "4             -516.666667 -683.166667  166.500000 2019-01-01 05:00:00\n",
      "...                   ...         ...         ...                 ...\n",
      "35029         -474.375000 -683.166667  208.791667 2022-12-31 20:00:00\n",
      "35030         -439.666667 -669.833333  230.166667 2022-12-31 21:00:00\n",
      "35031         -330.916667 -512.583333  181.666667 2022-12-31 22:00:00\n",
      "35032         -309.666667 -503.958333  194.291667 2022-12-31 23:00:00\n",
      "35033         -314.375000 -508.208333  193.833333 2023-01-01 00:00:00\n",
      "\n",
      "[35034 rows x 4 columns]\n"
     ]
    }
   ],
   "source": [
    "exchange = pd.read_csv(\"/Users/evanlipton/Dropbox (YSE)/Solar_ElectricData/Data/ISONE/new/combined/exchange.csv\")\n",
    "exchange = clean_frame(exchange, [\"Local Date\", \"Local Hour Ending\"], [\"Actual Interchange\", \"Purchases\", \"Sales\"], '%Y-%m-%d')\n",
    "print(exchange)"
   ],
   "metadata": {
    "collapsed": false
   }
  },
  {
   "cell_type": "code",
   "execution_count": 54,
   "outputs": [
    {
     "data": {
      "text/plain": "str"
     },
     "execution_count": 54,
     "metadata": {},
     "output_type": "execute_result"
    }
   ],
   "source": [
    "generation = pd.read_csv(\"/Users/evanlipton/Dropbox (YSE)/Solar_ElectricData/Data/ISONE/new/combined/generation.csv\")\n",
    "\n",
    "type(generation['Time'][0])"
   ],
   "metadata": {
    "collapsed": false
   }
  },
  {
   "cell_type": "code",
   "execution_count": 55,
   "outputs": [
    {
     "name": "stdout",
     "output_type": "stream",
     "text": [
      "                   time_tomerge        Hydro  Landfill Gas  Natural Gas  \\\n",
      "0     2019-01-01 00:00:00+00:00  1040.285714     25.285714  2389.571429   \n",
      "1     2019-01-01 01:00:00+00:00   880.333333     25.666667  2421.166667   \n",
      "2     2019-01-01 02:00:00+00:00   902.750000     26.000000  2061.250000   \n",
      "3     2019-01-01 03:00:00+00:00   942.000000     26.000000  1966.125000   \n",
      "4     2019-01-01 04:00:00+00:00   954.285714     25.714286  1859.571429   \n",
      "...                         ...          ...           ...          ...   \n",
      "31706 2022-12-31 19:00:00+00:00  1183.888889     36.000000  5088.222222   \n",
      "31707 2022-12-31 20:00:00+00:00  1142.666667     36.000000  4716.222222   \n",
      "31708 2022-12-31 21:00:00+00:00  1141.750000     36.000000  5001.500000   \n",
      "31709 2022-12-31 22:00:00+00:00  1173.666667     35.888889  4296.666667   \n",
      "31710 2022-12-31 23:00:00+00:00  1210.375000     35.875000  3658.375000   \n",
      "\n",
      "           Nuclear     Other      Refuse  Solar        Wind        Wood  Oil  \\\n",
      "0      4016.714286       NaN  358.142857    0.0  671.142857  368.857143  NaN   \n",
      "1      4017.333333       NaN  361.666667    0.0  751.666667  374.500000  NaN   \n",
      "2      4016.500000       NaN  357.125000    0.0  783.875000  369.000000  NaN   \n",
      "3      4016.125000       NaN  361.625000    0.0  757.625000  365.375000  NaN   \n",
      "4      4016.142857       NaN  355.714286    0.0  648.142857  370.857143  NaN   \n",
      "...            ...       ...         ...    ...         ...         ...  ...   \n",
      "31706  3371.444444  6.777778  323.444444    1.0  318.555556  231.444444  NaN   \n",
      "31707  3371.444444  5.444444  345.666667    1.0  271.666667  231.777778  NaN   \n",
      "31708  3370.750000  4.750000  342.250000    1.0  238.125000  231.125000  NaN   \n",
      "31709  3371.444444  6.888889  333.555556    1.0  207.666667  232.222222  NaN   \n",
      "31710  3371.500000  1.125000  338.000000    1.0  204.375000  232.625000  NaN   \n",
      "\n",
      "           Coal  \n",
      "0      0.000000  \n",
      "1      0.000000  \n",
      "2      0.000000  \n",
      "3      0.000000  \n",
      "4      0.000000  \n",
      "...         ...  \n",
      "31706  0.222222  \n",
      "31707  0.000000  \n",
      "31708  0.000000  \n",
      "31709  0.000000  \n",
      "31710  0.000000  \n",
      "\n",
      "[31711 rows x 12 columns]\n"
     ]
    }
   ],
   "source": [
    "generation = pd.read_csv(\"/Users/evanlipton/Dropbox (YSE)/Solar_ElectricData/Data/ISONE/new/combined/generation.csv\")\n",
    "generation = generation.drop(columns = [\"Unnamed: 0\", \"Unnamed: 0.1\"])\n",
    "generation['time_tomerge'] = pd.to_datetime(generation['Time'], utc=True).dt.floor(\"H\")\n",
    "generation['time_tomerge'] = generation['time_tomerge'] - timedelta(hours=5)\n",
    "generation = pd.DataFrame(generation.groupby([\"time_tomerge\"])[generation.columns[1:-1]].mean())\n",
    "generation = generation.reset_index()\n",
    "print(generation)"
   ],
   "metadata": {
    "collapsed": false
   }
  },
  {
   "cell_type": "code",
   "execution_count": 56,
   "outputs": [
    {
     "name": "stdout",
     "output_type": "stream",
     "text": [
      "       Unnamed: 0  H        Date Hour Ending  Total Load\n",
      "0               1  D  07/16/2019          01    13319.45\n",
      "1               2  D  07/16/2019          02    13012.74\n",
      "2               3  D  07/16/2019          03    12572.27\n",
      "3               4  D  07/16/2019          04    12390.46\n",
      "4               5  D  07/16/2019          05    12192.45\n",
      "...           ... ..         ...         ...         ...\n",
      "35188         308  D  02/28/2019          20    17110.14\n",
      "35189         309  D  02/28/2019          21    16597.57\n",
      "35190         310  D  02/28/2019          22    15759.28\n",
      "35191         311  D  02/28/2019          23    14633.02\n",
      "35192         312  D  02/28/2019          24    13828.94\n",
      "\n",
      "[35066 rows x 5 columns]\n"
     ]
    },
    {
     "name": "stderr",
     "output_type": "stream",
     "text": [
      "100%|██████████| 35060/35060 [00:01<00:00, 27303.90it/s]\n"
     ]
    },
    {
     "name": "stdout",
     "output_type": "stream",
     "text": [
      "       Total Load        time_tomerge\n",
      "0        11613.92 2019-01-01 01:00:00\n",
      "1        11496.66 2019-01-01 02:00:00\n",
      "2        11368.76 2019-01-01 03:00:00\n",
      "3        11270.26 2019-01-01 04:00:00\n",
      "4        11309.61 2019-01-01 05:00:00\n",
      "...           ...                 ...\n",
      "35055    13362.98 2022-12-31 20:00:00\n",
      "35056    12769.96 2022-12-31 21:00:00\n",
      "35057    12376.44 2022-12-31 22:00:00\n",
      "35058    11509.74 2022-12-31 23:00:00\n",
      "35059    10922.34 2023-01-01 00:00:00\n",
      "\n",
      "[35060 rows x 2 columns]\n"
     ]
    }
   ],
   "source": [
    "load = pd.read_csv(\"/Users/evanlipton/Dropbox (YSE)/Solar_ElectricData/Data/ISONE/new/combined/load.csv\")\n",
    "load = load.dropna()\n",
    "print(load)\n",
    "load = clean_frame(load, ['Date', \"Hour Ending\"], ['Total Load'],'%m/%d/%Y')\n",
    "print(load)"
   ],
   "metadata": {
    "collapsed": false
   }
  },
  {
   "cell_type": "code",
   "execution_count": 58,
   "outputs": [
    {
     "name": "stdout",
     "output_type": "stream",
     "text": [
      "        Unnamed: 0  H  Unnamed: 1  Unnamed: 2  Location ID  \\\n",
      "0                1  D  2022-06-16         1.0       7000.0   \n",
      "1                2  D  2022-06-16         1.0       7001.0   \n",
      "2                3  D  2022-06-16         1.0       7002.0   \n",
      "3                4  D  2022-06-16         1.0       7003.0   \n",
      "4                5  D  2022-06-16         2.0       7000.0   \n",
      "...            ... ..         ...         ...          ...   \n",
      "140346        1436  D  2021-04-15        23.0       7003.0   \n",
      "140347        1437  D  2021-04-15        24.0       7000.0   \n",
      "140348        1438  D  2021-04-15        24.0       7001.0   \n",
      "140349        1439  D  2021-04-15        24.0       7002.0   \n",
      "140350        1440  D  2021-04-15        24.0       7003.0   \n",
      "\n",
      "        Ten-Minute Spinning Reserve Clearing Price  \\\n",
      "0                                              0.0   \n",
      "1                                              0.0   \n",
      "2                                              0.0   \n",
      "3                                              0.0   \n",
      "4                                              0.0   \n",
      "...                                            ...   \n",
      "140346                                         0.0   \n",
      "140347                                         0.0   \n",
      "140348                                         0.0   \n",
      "140349                                         0.0   \n",
      "140350                                         0.0   \n",
      "\n",
      "        Ten-Minute Reserve Clearing Price  Total Reserve Clearing Price  \\\n",
      "0                                     0.0                           0.0   \n",
      "1                                     0.0                           0.0   \n",
      "2                                     0.0                           0.0   \n",
      "3                                     0.0                           0.0   \n",
      "4                                     0.0                           0.0   \n",
      "...                                   ...                           ...   \n",
      "140346                                0.0                           0.0   \n",
      "140347                                0.0                           0.0   \n",
      "140348                                0.0                           0.0   \n",
      "140349                                0.0                           0.0   \n",
      "140350                                0.0                           0.0   \n",
      "\n",
      "        TMSR Designated MW  TMNSR Designated MW  TMOR Designated MW  \n",
      "0                  646.883             2122.075            1108.317  \n",
      "1                  102.542              358.500             252.833  \n",
      "2                  159.625              450.500             179.525  \n",
      "3                    1.125               33.500              69.400  \n",
      "4                  600.100             2080.558            1084.475  \n",
      "...                    ...                  ...                 ...  \n",
      "140346              54.400               60.200             206.758  \n",
      "140347             553.100             2407.800             887.908  \n",
      "140348             151.692              319.600             220.467  \n",
      "140349             102.108              456.100             157.225  \n",
      "140350              80.025               37.900             198.217  \n",
      "\n",
      "[140224 rows x 11 columns]\n"
     ]
    },
    {
     "name": "stderr",
     "output_type": "stream",
     "text": [
      "100%|██████████| 35052/35052 [00:01<00:00, 28544.23it/s]"
     ]
    },
    {
     "name": "stdout",
     "output_type": "stream",
     "text": [
      "       Ten-Minute Spinning Reserve Clearing Price  \\\n",
      "0                                           17.10   \n",
      "1                                            0.00   \n",
      "2                                            0.00   \n",
      "3                                            0.00   \n",
      "4                                            0.00   \n",
      "...                                           ...   \n",
      "35047                                        0.00   \n",
      "35048                                        0.00   \n",
      "35049                                        0.00   \n",
      "35050                                        2.54   \n",
      "35051                                        1.56   \n",
      "\n",
      "       Ten-Minute Reserve Clearing Price  Total Reserve Clearing Price  \\\n",
      "0                                    0.0                           0.0   \n",
      "1                                    0.0                           0.0   \n",
      "2                                    0.0                           0.0   \n",
      "3                                    0.0                           0.0   \n",
      "4                                    0.0                           0.0   \n",
      "...                                  ...                           ...   \n",
      "35047                                0.0                           0.0   \n",
      "35048                                0.0                           0.0   \n",
      "35049                                0.0                           0.0   \n",
      "35050                                0.0                           0.0   \n",
      "35051                                0.0                           0.0   \n",
      "\n",
      "       TMSR Designated MW  TMNSR Designated MW  TMOR Designated MW  \\\n",
      "0               130.21875            722.05625           281.40400   \n",
      "1               184.84175            669.89575           387.93125   \n",
      "2               274.18750            694.31875           500.29800   \n",
      "3               357.55625            621.44575           571.64175   \n",
      "4               395.02525            594.05000           606.17700   \n",
      "...                   ...                  ...                 ...   \n",
      "35047           155.33550            839.54375           299.48975   \n",
      "35048           147.73750            828.20000           307.00200   \n",
      "35049           138.71875            556.87500           559.17700   \n",
      "35050           108.40425            693.94175           382.14600   \n",
      "35051           108.02075            707.95000           245.75625   \n",
      "\n",
      "             time_tomerge  \n",
      "0     2019-01-01 01:00:00  \n",
      "1     2019-01-01 02:00:00  \n",
      "2     2019-01-01 03:00:00  \n",
      "3     2019-01-01 04:00:00  \n",
      "4     2019-01-01 05:00:00  \n",
      "...                   ...  \n",
      "35047 2022-12-31 20:00:00  \n",
      "35048 2022-12-31 21:00:00  \n",
      "35049 2022-12-31 22:00:00  \n",
      "35050 2022-12-31 23:00:00  \n",
      "35051 2023-01-01 00:00:00  \n",
      "\n",
      "[35052 rows x 7 columns]\n"
     ]
    },
    {
     "name": "stderr",
     "output_type": "stream",
     "text": [
      "\n"
     ]
    }
   ],
   "source": [
    "reserve_prices = pd.read_csv(\"/Users/evanlipton/Dropbox (YSE)/Solar_ElectricData/Data/ISONE/new/combined/reserve_price_quantity.csv\")\n",
    "reserve_prices = reserve_prices.dropna()\n",
    "reserve_prices = clean_frame(reserve_prices, ['Unnamed: 1', 'Unnamed: 2'], [\"Ten-Minute Spinning Reserve Clearing Price\", \"Ten-Minute Reserve Clearing Price\", \"Total Reserve Clearing Price\", \"TMSR Designated MW\",\t\"TMNSR Designated MW\", \"TMOR Designated MW\"],'%Y-%m-%d')\n",
    "print(reserve_prices)"
   ],
   "metadata": {
    "collapsed": false
   }
  },
  {
   "cell_type": "code",
   "execution_count": 59,
   "outputs": [
    {
     "name": "stderr",
     "output_type": "stream",
     "text": [
      "100%|██████████| 35060/35060 [00:01<00:00, 27246.48it/s]\n",
      "100%|██████████| 35060/35060 [00:01<00:00, 26581.14it/s]\n"
     ]
    }
   ],
   "source": [
    "solar_gen = pd.read_csv(\"/Users/evanlipton/Dropbox (YSE)/Solar_ElectricData/Data/ISONE/new/combined/solar_gen.csv\")\n",
    "wind_gen = pd.read_csv(\"/Users/evanlipton/Dropbox (YSE)/Solar_ElectricData/Data/ISONE/new/combined/wind_gen.csv\")\n",
    "\n",
    "solar_gen = clean_frame(solar_gen, [\"local_day\", \"LOCAL_HOUR_END\"], [\"tot_solar_mwh\", \"_FREQ_\"], \"%d-%b-%y\")\n",
    "wind_gen = clean_frame(wind_gen, [\"local_day\", \"local_hour_end\"], [\"tot_wind_mwh\", \"_FREQ_\"], \"%d-%b-%y\")"
   ],
   "metadata": {
    "collapsed": false
   }
  },
  {
   "cell_type": "code",
   "execution_count": 60,
   "outputs": [
    {
     "data": {
      "text/plain": "       energy_rt  congestion_rt  losses_rt        time_tomerge\n0          35.42           0.04       0.19 2019-01-01 01:00:00\n1          38.38           0.00       0.25 2019-01-01 02:00:00\n2          21.09           0.00       0.14 2019-01-01 03:00:00\n3          18.29           0.03       0.13 2019-01-01 04:00:00\n4           7.48           0.01       0.05 2019-01-01 05:00:00\n...          ...            ...        ...                 ...\n35007      26.27           0.00       0.09 2022-12-31 20:00:00\n35008      25.31           0.00       0.07 2022-12-31 21:00:00\n35009      31.69           0.00       0.11 2022-12-31 22:00:00\n35010      44.16           0.00       0.13 2022-12-31 23:00:00\n35011      58.63           0.00       0.12 2023-01-01 00:00:00\n\n[35012 rows x 4 columns]",
      "text/html": "<div>\n<style scoped>\n    .dataframe tbody tr th:only-of-type {\n        vertical-align: middle;\n    }\n\n    .dataframe tbody tr th {\n        vertical-align: top;\n    }\n\n    .dataframe thead th {\n        text-align: right;\n    }\n</style>\n<table border=\"1\" class=\"dataframe\">\n  <thead>\n    <tr style=\"text-align: right;\">\n      <th></th>\n      <th>energy_rt</th>\n      <th>congestion_rt</th>\n      <th>losses_rt</th>\n      <th>time_tomerge</th>\n    </tr>\n  </thead>\n  <tbody>\n    <tr>\n      <th>0</th>\n      <td>35.42</td>\n      <td>0.04</td>\n      <td>0.19</td>\n      <td>2019-01-01 01:00:00</td>\n    </tr>\n    <tr>\n      <th>1</th>\n      <td>38.38</td>\n      <td>0.00</td>\n      <td>0.25</td>\n      <td>2019-01-01 02:00:00</td>\n    </tr>\n    <tr>\n      <th>2</th>\n      <td>21.09</td>\n      <td>0.00</td>\n      <td>0.14</td>\n      <td>2019-01-01 03:00:00</td>\n    </tr>\n    <tr>\n      <th>3</th>\n      <td>18.29</td>\n      <td>0.03</td>\n      <td>0.13</td>\n      <td>2019-01-01 04:00:00</td>\n    </tr>\n    <tr>\n      <th>4</th>\n      <td>7.48</td>\n      <td>0.01</td>\n      <td>0.05</td>\n      <td>2019-01-01 05:00:00</td>\n    </tr>\n    <tr>\n      <th>...</th>\n      <td>...</td>\n      <td>...</td>\n      <td>...</td>\n      <td>...</td>\n    </tr>\n    <tr>\n      <th>35007</th>\n      <td>26.27</td>\n      <td>0.00</td>\n      <td>0.09</td>\n      <td>2022-12-31 20:00:00</td>\n    </tr>\n    <tr>\n      <th>35008</th>\n      <td>25.31</td>\n      <td>0.00</td>\n      <td>0.07</td>\n      <td>2022-12-31 21:00:00</td>\n    </tr>\n    <tr>\n      <th>35009</th>\n      <td>31.69</td>\n      <td>0.00</td>\n      <td>0.11</td>\n      <td>2022-12-31 22:00:00</td>\n    </tr>\n    <tr>\n      <th>35010</th>\n      <td>44.16</td>\n      <td>0.00</td>\n      <td>0.13</td>\n      <td>2022-12-31 23:00:00</td>\n    </tr>\n    <tr>\n      <th>35011</th>\n      <td>58.63</td>\n      <td>0.00</td>\n      <td>0.12</td>\n      <td>2023-01-01 00:00:00</td>\n    </tr>\n  </tbody>\n</table>\n<p>35012 rows × 4 columns</p>\n</div>"
     },
     "execution_count": 60,
     "metadata": {},
     "output_type": "execute_result"
    }
   ],
   "source": [
    "energy_rt = energy_rt.rename(columns={\"Energy Component\": \"energy_rt\", \"Congestion Component\": \"congestion_rt\", \"Marginal Loss Component\": \"losses_rt\"})\n",
    "energy_rt = energy_rt.drop(columns = [\"Locational Marginal Price\"])\n",
    "\n",
    "energy_rt"
   ],
   "metadata": {
    "collapsed": false
   }
  },
  {
   "cell_type": "code",
   "execution_count": 61,
   "outputs": [
    {
     "data": {
      "text/plain": "       energy_da  congestion_da  losses_da        time_tomerge\n0          25.57           0.02       0.04 2019-01-01 01:00:00\n1          20.44           0.01       0.04 2019-01-01 02:00:00\n2          18.84           0.01       0.01 2019-01-01 03:00:00\n3          19.09           0.01       0.02 2019-01-01 04:00:00\n4          17.78           0.00       0.02 2019-01-01 05:00:00\n...          ...            ...        ...                 ...\n35055      38.97           0.00       0.04 2022-12-31 20:00:00\n35056      38.88           0.00       0.00 2022-12-31 21:00:00\n35057      38.73           0.00      -0.05 2022-12-31 22:00:00\n35058      38.69           0.00      -0.04 2022-12-31 23:00:00\n35059      38.95           0.00       0.00 2023-01-01 00:00:00\n\n[35060 rows x 4 columns]",
      "text/html": "<div>\n<style scoped>\n    .dataframe tbody tr th:only-of-type {\n        vertical-align: middle;\n    }\n\n    .dataframe tbody tr th {\n        vertical-align: top;\n    }\n\n    .dataframe thead th {\n        text-align: right;\n    }\n</style>\n<table border=\"1\" class=\"dataframe\">\n  <thead>\n    <tr style=\"text-align: right;\">\n      <th></th>\n      <th>energy_da</th>\n      <th>congestion_da</th>\n      <th>losses_da</th>\n      <th>time_tomerge</th>\n    </tr>\n  </thead>\n  <tbody>\n    <tr>\n      <th>0</th>\n      <td>25.57</td>\n      <td>0.02</td>\n      <td>0.04</td>\n      <td>2019-01-01 01:00:00</td>\n    </tr>\n    <tr>\n      <th>1</th>\n      <td>20.44</td>\n      <td>0.01</td>\n      <td>0.04</td>\n      <td>2019-01-01 02:00:00</td>\n    </tr>\n    <tr>\n      <th>2</th>\n      <td>18.84</td>\n      <td>0.01</td>\n      <td>0.01</td>\n      <td>2019-01-01 03:00:00</td>\n    </tr>\n    <tr>\n      <th>3</th>\n      <td>19.09</td>\n      <td>0.01</td>\n      <td>0.02</td>\n      <td>2019-01-01 04:00:00</td>\n    </tr>\n    <tr>\n      <th>4</th>\n      <td>17.78</td>\n      <td>0.00</td>\n      <td>0.02</td>\n      <td>2019-01-01 05:00:00</td>\n    </tr>\n    <tr>\n      <th>...</th>\n      <td>...</td>\n      <td>...</td>\n      <td>...</td>\n      <td>...</td>\n    </tr>\n    <tr>\n      <th>35055</th>\n      <td>38.97</td>\n      <td>0.00</td>\n      <td>0.04</td>\n      <td>2022-12-31 20:00:00</td>\n    </tr>\n    <tr>\n      <th>35056</th>\n      <td>38.88</td>\n      <td>0.00</td>\n      <td>0.00</td>\n      <td>2022-12-31 21:00:00</td>\n    </tr>\n    <tr>\n      <th>35057</th>\n      <td>38.73</td>\n      <td>0.00</td>\n      <td>-0.05</td>\n      <td>2022-12-31 22:00:00</td>\n    </tr>\n    <tr>\n      <th>35058</th>\n      <td>38.69</td>\n      <td>0.00</td>\n      <td>-0.04</td>\n      <td>2022-12-31 23:00:00</td>\n    </tr>\n    <tr>\n      <th>35059</th>\n      <td>38.95</td>\n      <td>0.00</td>\n      <td>0.00</td>\n      <td>2023-01-01 00:00:00</td>\n    </tr>\n  </tbody>\n</table>\n<p>35060 rows × 4 columns</p>\n</div>"
     },
     "execution_count": 61,
     "metadata": {},
     "output_type": "execute_result"
    }
   ],
   "source": [
    "energy_da = energy_da.rename(columns={\"Energy Component\": \"energy_da\", \"Congestion Component\": \"congestion_da\", \"Marginal Loss Component\": \"losses_da\"})\n",
    "energy_da = energy_da.drop(columns = [\"Locational Marginal Price\"])\n",
    "energy_da"
   ],
   "metadata": {
    "collapsed": false
   }
  },
  {
   "cell_type": "code",
   "execution_count": 62,
   "outputs": [
    {
     "data": {
      "text/plain": "                   time_tomerge    gen_hydro  gen_landfillgas      gen_gas  \\\n0     2019-01-01 00:00:00+00:00  1040.285714        25.285714  2389.571429   \n1     2019-01-01 01:00:00+00:00   880.333333        25.666667  2421.166667   \n2     2019-01-01 02:00:00+00:00   902.750000        26.000000  2061.250000   \n3     2019-01-01 03:00:00+00:00   942.000000        26.000000  1966.125000   \n4     2019-01-01 04:00:00+00:00   954.285714        25.714286  1859.571429   \n...                         ...          ...              ...          ...   \n31706 2022-12-31 19:00:00+00:00  1183.888889        36.000000  5088.222222   \n31707 2022-12-31 20:00:00+00:00  1142.666667        36.000000  4716.222222   \n31708 2022-12-31 21:00:00+00:00  1141.750000        36.000000  5001.500000   \n31709 2022-12-31 22:00:00+00:00  1173.666667        35.888889  4296.666667   \n31710 2022-12-31 23:00:00+00:00  1210.375000        35.875000  3658.375000   \n\n       gen_nuclear  gen_other  gen_refuse  gen_solar    gen_wind    gen_wood  \\\n0      4016.714286        NaN  358.142857        0.0  671.142857  368.857143   \n1      4017.333333        NaN  361.666667        0.0  751.666667  374.500000   \n2      4016.500000        NaN  357.125000        0.0  783.875000  369.000000   \n3      4016.125000        NaN  361.625000        0.0  757.625000  365.375000   \n4      4016.142857        NaN  355.714286        0.0  648.142857  370.857143   \n...            ...        ...         ...        ...         ...         ...   \n31706  3371.444444   6.777778  323.444444        1.0  318.555556  231.444444   \n31707  3371.444444   5.444444  345.666667        1.0  271.666667  231.777778   \n31708  3370.750000   4.750000  342.250000        1.0  238.125000  231.125000   \n31709  3371.444444   6.888889  333.555556        1.0  207.666667  232.222222   \n31710  3371.500000   1.125000  338.000000        1.0  204.375000  232.625000   \n\n       gen_oil  gen_coal  \n0          NaN  0.000000  \n1          NaN  0.000000  \n2          NaN  0.000000  \n3          NaN  0.000000  \n4          NaN  0.000000  \n...        ...       ...  \n31706      NaN  0.222222  \n31707      NaN  0.000000  \n31708      NaN  0.000000  \n31709      NaN  0.000000  \n31710      NaN  0.000000  \n\n[31711 rows x 12 columns]",
      "text/html": "<div>\n<style scoped>\n    .dataframe tbody tr th:only-of-type {\n        vertical-align: middle;\n    }\n\n    .dataframe tbody tr th {\n        vertical-align: top;\n    }\n\n    .dataframe thead th {\n        text-align: right;\n    }\n</style>\n<table border=\"1\" class=\"dataframe\">\n  <thead>\n    <tr style=\"text-align: right;\">\n      <th></th>\n      <th>time_tomerge</th>\n      <th>gen_hydro</th>\n      <th>gen_landfillgas</th>\n      <th>gen_gas</th>\n      <th>gen_nuclear</th>\n      <th>gen_other</th>\n      <th>gen_refuse</th>\n      <th>gen_solar</th>\n      <th>gen_wind</th>\n      <th>gen_wood</th>\n      <th>gen_oil</th>\n      <th>gen_coal</th>\n    </tr>\n  </thead>\n  <tbody>\n    <tr>\n      <th>0</th>\n      <td>2019-01-01 00:00:00+00:00</td>\n      <td>1040.285714</td>\n      <td>25.285714</td>\n      <td>2389.571429</td>\n      <td>4016.714286</td>\n      <td>NaN</td>\n      <td>358.142857</td>\n      <td>0.0</td>\n      <td>671.142857</td>\n      <td>368.857143</td>\n      <td>NaN</td>\n      <td>0.000000</td>\n    </tr>\n    <tr>\n      <th>1</th>\n      <td>2019-01-01 01:00:00+00:00</td>\n      <td>880.333333</td>\n      <td>25.666667</td>\n      <td>2421.166667</td>\n      <td>4017.333333</td>\n      <td>NaN</td>\n      <td>361.666667</td>\n      <td>0.0</td>\n      <td>751.666667</td>\n      <td>374.500000</td>\n      <td>NaN</td>\n      <td>0.000000</td>\n    </tr>\n    <tr>\n      <th>2</th>\n      <td>2019-01-01 02:00:00+00:00</td>\n      <td>902.750000</td>\n      <td>26.000000</td>\n      <td>2061.250000</td>\n      <td>4016.500000</td>\n      <td>NaN</td>\n      <td>357.125000</td>\n      <td>0.0</td>\n      <td>783.875000</td>\n      <td>369.000000</td>\n      <td>NaN</td>\n      <td>0.000000</td>\n    </tr>\n    <tr>\n      <th>3</th>\n      <td>2019-01-01 03:00:00+00:00</td>\n      <td>942.000000</td>\n      <td>26.000000</td>\n      <td>1966.125000</td>\n      <td>4016.125000</td>\n      <td>NaN</td>\n      <td>361.625000</td>\n      <td>0.0</td>\n      <td>757.625000</td>\n      <td>365.375000</td>\n      <td>NaN</td>\n      <td>0.000000</td>\n    </tr>\n    <tr>\n      <th>4</th>\n      <td>2019-01-01 04:00:00+00:00</td>\n      <td>954.285714</td>\n      <td>25.714286</td>\n      <td>1859.571429</td>\n      <td>4016.142857</td>\n      <td>NaN</td>\n      <td>355.714286</td>\n      <td>0.0</td>\n      <td>648.142857</td>\n      <td>370.857143</td>\n      <td>NaN</td>\n      <td>0.000000</td>\n    </tr>\n    <tr>\n      <th>...</th>\n      <td>...</td>\n      <td>...</td>\n      <td>...</td>\n      <td>...</td>\n      <td>...</td>\n      <td>...</td>\n      <td>...</td>\n      <td>...</td>\n      <td>...</td>\n      <td>...</td>\n      <td>...</td>\n      <td>...</td>\n    </tr>\n    <tr>\n      <th>31706</th>\n      <td>2022-12-31 19:00:00+00:00</td>\n      <td>1183.888889</td>\n      <td>36.000000</td>\n      <td>5088.222222</td>\n      <td>3371.444444</td>\n      <td>6.777778</td>\n      <td>323.444444</td>\n      <td>1.0</td>\n      <td>318.555556</td>\n      <td>231.444444</td>\n      <td>NaN</td>\n      <td>0.222222</td>\n    </tr>\n    <tr>\n      <th>31707</th>\n      <td>2022-12-31 20:00:00+00:00</td>\n      <td>1142.666667</td>\n      <td>36.000000</td>\n      <td>4716.222222</td>\n      <td>3371.444444</td>\n      <td>5.444444</td>\n      <td>345.666667</td>\n      <td>1.0</td>\n      <td>271.666667</td>\n      <td>231.777778</td>\n      <td>NaN</td>\n      <td>0.000000</td>\n    </tr>\n    <tr>\n      <th>31708</th>\n      <td>2022-12-31 21:00:00+00:00</td>\n      <td>1141.750000</td>\n      <td>36.000000</td>\n      <td>5001.500000</td>\n      <td>3370.750000</td>\n      <td>4.750000</td>\n      <td>342.250000</td>\n      <td>1.0</td>\n      <td>238.125000</td>\n      <td>231.125000</td>\n      <td>NaN</td>\n      <td>0.000000</td>\n    </tr>\n    <tr>\n      <th>31709</th>\n      <td>2022-12-31 22:00:00+00:00</td>\n      <td>1173.666667</td>\n      <td>35.888889</td>\n      <td>4296.666667</td>\n      <td>3371.444444</td>\n      <td>6.888889</td>\n      <td>333.555556</td>\n      <td>1.0</td>\n      <td>207.666667</td>\n      <td>232.222222</td>\n      <td>NaN</td>\n      <td>0.000000</td>\n    </tr>\n    <tr>\n      <th>31710</th>\n      <td>2022-12-31 23:00:00+00:00</td>\n      <td>1210.375000</td>\n      <td>35.875000</td>\n      <td>3658.375000</td>\n      <td>3371.500000</td>\n      <td>1.125000</td>\n      <td>338.000000</td>\n      <td>1.0</td>\n      <td>204.375000</td>\n      <td>232.625000</td>\n      <td>NaN</td>\n      <td>0.000000</td>\n    </tr>\n  </tbody>\n</table>\n<p>31711 rows × 12 columns</p>\n</div>"
     },
     "execution_count": 62,
     "metadata": {},
     "output_type": "execute_result"
    }
   ],
   "source": [
    "generation = generation.rename(columns = {\"Solar\": \"gen_solar\", \"Wind\": \"gen_wind\", \"Hydro\": \"gen_hydro\", \"Coal\": \"gen_coal\", \"Nuclear\": \"gen_nuclear\", \"Natural Gas\": \"gen_gas\", \"Landfill Gas\": \"gen_landfillgas\", \"Refuse\": \"gen_refuse\", \"Wood\": \"gen_wood\", \"Oil\": \"gen_oil\", \"Other\": \"gen_other\"})\n",
    "generation"
   ],
   "metadata": {
    "collapsed": false
   }
  },
  {
   "cell_type": "code",
   "execution_count": 63,
   "outputs": [
    {
     "data": {
      "text/plain": "        load_rt        time_tomerge\n0      11613.92 2019-01-01 01:00:00\n1      11496.66 2019-01-01 02:00:00\n2      11368.76 2019-01-01 03:00:00\n3      11270.26 2019-01-01 04:00:00\n4      11309.61 2019-01-01 05:00:00\n...         ...                 ...\n35055  13362.98 2022-12-31 20:00:00\n35056  12769.96 2022-12-31 21:00:00\n35057  12376.44 2022-12-31 22:00:00\n35058  11509.74 2022-12-31 23:00:00\n35059  10922.34 2023-01-01 00:00:00\n\n[35060 rows x 2 columns]",
      "text/html": "<div>\n<style scoped>\n    .dataframe tbody tr th:only-of-type {\n        vertical-align: middle;\n    }\n\n    .dataframe tbody tr th {\n        vertical-align: top;\n    }\n\n    .dataframe thead th {\n        text-align: right;\n    }\n</style>\n<table border=\"1\" class=\"dataframe\">\n  <thead>\n    <tr style=\"text-align: right;\">\n      <th></th>\n      <th>load_rt</th>\n      <th>time_tomerge</th>\n    </tr>\n  </thead>\n  <tbody>\n    <tr>\n      <th>0</th>\n      <td>11613.92</td>\n      <td>2019-01-01 01:00:00</td>\n    </tr>\n    <tr>\n      <th>1</th>\n      <td>11496.66</td>\n      <td>2019-01-01 02:00:00</td>\n    </tr>\n    <tr>\n      <th>2</th>\n      <td>11368.76</td>\n      <td>2019-01-01 03:00:00</td>\n    </tr>\n    <tr>\n      <th>3</th>\n      <td>11270.26</td>\n      <td>2019-01-01 04:00:00</td>\n    </tr>\n    <tr>\n      <th>4</th>\n      <td>11309.61</td>\n      <td>2019-01-01 05:00:00</td>\n    </tr>\n    <tr>\n      <th>...</th>\n      <td>...</td>\n      <td>...</td>\n    </tr>\n    <tr>\n      <th>35055</th>\n      <td>13362.98</td>\n      <td>2022-12-31 20:00:00</td>\n    </tr>\n    <tr>\n      <th>35056</th>\n      <td>12769.96</td>\n      <td>2022-12-31 21:00:00</td>\n    </tr>\n    <tr>\n      <th>35057</th>\n      <td>12376.44</td>\n      <td>2022-12-31 22:00:00</td>\n    </tr>\n    <tr>\n      <th>35058</th>\n      <td>11509.74</td>\n      <td>2022-12-31 23:00:00</td>\n    </tr>\n    <tr>\n      <th>35059</th>\n      <td>10922.34</td>\n      <td>2023-01-01 00:00:00</td>\n    </tr>\n  </tbody>\n</table>\n<p>35060 rows × 2 columns</p>\n</div>"
     },
     "execution_count": 63,
     "metadata": {},
     "output_type": "execute_result"
    }
   ],
   "source": [
    "load = load.rename(columns = {\"Total Load\": \"load_rt\"})\n",
    "load"
   ],
   "metadata": {
    "collapsed": false
   }
  },
  {
   "cell_type": "code",
   "execution_count": 64,
   "outputs": [
    {
     "data": {
      "text/plain": "             time_tomerge  reserve_price  reserve_quantity\n0     2019-01-01 01:00:00       5.700000        377.893000\n1     2019-01-01 02:00:00       0.000000        414.222917\n2     2019-01-01 03:00:00       0.000000        489.601417\n3     2019-01-01 04:00:00       0.000000        516.881250\n4     2019-01-01 05:00:00       0.000000        531.750750\n...                   ...            ...               ...\n35047 2022-12-31 20:00:00       0.000000        431.456333\n35048 2022-12-31 21:00:00       0.000000        427.646500\n35049 2022-12-31 22:00:00       0.000000        418.256917\n35050 2022-12-31 23:00:00       0.846667        394.830667\n35051 2023-01-01 00:00:00       0.520000        353.909000\n\n[35052 rows x 3 columns]",
      "text/html": "<div>\n<style scoped>\n    .dataframe tbody tr th:only-of-type {\n        vertical-align: middle;\n    }\n\n    .dataframe tbody tr th {\n        vertical-align: top;\n    }\n\n    .dataframe thead th {\n        text-align: right;\n    }\n</style>\n<table border=\"1\" class=\"dataframe\">\n  <thead>\n    <tr style=\"text-align: right;\">\n      <th></th>\n      <th>time_tomerge</th>\n      <th>reserve_price</th>\n      <th>reserve_quantity</th>\n    </tr>\n  </thead>\n  <tbody>\n    <tr>\n      <th>0</th>\n      <td>2019-01-01 01:00:00</td>\n      <td>5.700000</td>\n      <td>377.893000</td>\n    </tr>\n    <tr>\n      <th>1</th>\n      <td>2019-01-01 02:00:00</td>\n      <td>0.000000</td>\n      <td>414.222917</td>\n    </tr>\n    <tr>\n      <th>2</th>\n      <td>2019-01-01 03:00:00</td>\n      <td>0.000000</td>\n      <td>489.601417</td>\n    </tr>\n    <tr>\n      <th>3</th>\n      <td>2019-01-01 04:00:00</td>\n      <td>0.000000</td>\n      <td>516.881250</td>\n    </tr>\n    <tr>\n      <th>4</th>\n      <td>2019-01-01 05:00:00</td>\n      <td>0.000000</td>\n      <td>531.750750</td>\n    </tr>\n    <tr>\n      <th>...</th>\n      <td>...</td>\n      <td>...</td>\n      <td>...</td>\n    </tr>\n    <tr>\n      <th>35047</th>\n      <td>2022-12-31 20:00:00</td>\n      <td>0.000000</td>\n      <td>431.456333</td>\n    </tr>\n    <tr>\n      <th>35048</th>\n      <td>2022-12-31 21:00:00</td>\n      <td>0.000000</td>\n      <td>427.646500</td>\n    </tr>\n    <tr>\n      <th>35049</th>\n      <td>2022-12-31 22:00:00</td>\n      <td>0.000000</td>\n      <td>418.256917</td>\n    </tr>\n    <tr>\n      <th>35050</th>\n      <td>2022-12-31 23:00:00</td>\n      <td>0.846667</td>\n      <td>394.830667</td>\n    </tr>\n    <tr>\n      <th>35051</th>\n      <td>2023-01-01 00:00:00</td>\n      <td>0.520000</td>\n      <td>353.909000</td>\n    </tr>\n  </tbody>\n</table>\n<p>35052 rows × 3 columns</p>\n</div>"
     },
     "execution_count": 64,
     "metadata": {},
     "output_type": "execute_result"
    }
   ],
   "source": [
    "reserve_prices[\"reserve_price\"] = reserve_prices[['Ten-Minute Spinning Reserve Clearing Price',\n",
    "       'Ten-Minute Reserve Clearing Price', 'Total Reserve Clearing Price']].mean(axis=1)\n",
    "reserve_prices[\"reserve_quantity\"] = reserve_prices[['TMSR Designated MW', 'TMNSR Designated MW', 'TMOR Designated MW']].mean(axis=1)\n",
    "reserve_prices = reserve_prices.drop(columns = ['Ten-Minute Spinning Reserve Clearing Price',\n",
    "       'Ten-Minute Reserve Clearing Price', 'Total Reserve Clearing Price', 'TMSR Designated MW', 'TMNSR Designated MW', 'TMOR Designated MW'])\n",
    "reserve_prices"
   ],
   "metadata": {
    "collapsed": false
   }
  },
  {
   "cell_type": "code",
   "execution_count": 65,
   "outputs": [
    {
     "data": {
      "text/plain": "             time_tomerge  gen_wind2\n0     2019-01-01 01:00:00    683.931\n1     2019-01-01 02:00:00    764.107\n2     2019-01-01 03:00:00    799.717\n3     2019-01-01 04:00:00    770.408\n4     2019-01-01 05:00:00    665.267\n...                   ...        ...\n35055 2022-12-31 20:00:00    322.118\n35056 2022-12-31 21:00:00    283.284\n35057 2022-12-31 22:00:00    240.049\n35058 2022-12-31 23:00:00    216.036\n35059 2023-01-01 00:00:00    209.268\n\n[35060 rows x 2 columns]",
      "text/html": "<div>\n<style scoped>\n    .dataframe tbody tr th:only-of-type {\n        vertical-align: middle;\n    }\n\n    .dataframe tbody tr th {\n        vertical-align: top;\n    }\n\n    .dataframe thead th {\n        text-align: right;\n    }\n</style>\n<table border=\"1\" class=\"dataframe\">\n  <thead>\n    <tr style=\"text-align: right;\">\n      <th></th>\n      <th>time_tomerge</th>\n      <th>gen_wind2</th>\n    </tr>\n  </thead>\n  <tbody>\n    <tr>\n      <th>0</th>\n      <td>2019-01-01 01:00:00</td>\n      <td>683.931</td>\n    </tr>\n    <tr>\n      <th>1</th>\n      <td>2019-01-01 02:00:00</td>\n      <td>764.107</td>\n    </tr>\n    <tr>\n      <th>2</th>\n      <td>2019-01-01 03:00:00</td>\n      <td>799.717</td>\n    </tr>\n    <tr>\n      <th>3</th>\n      <td>2019-01-01 04:00:00</td>\n      <td>770.408</td>\n    </tr>\n    <tr>\n      <th>4</th>\n      <td>2019-01-01 05:00:00</td>\n      <td>665.267</td>\n    </tr>\n    <tr>\n      <th>...</th>\n      <td>...</td>\n      <td>...</td>\n    </tr>\n    <tr>\n      <th>35055</th>\n      <td>2022-12-31 20:00:00</td>\n      <td>322.118</td>\n    </tr>\n    <tr>\n      <th>35056</th>\n      <td>2022-12-31 21:00:00</td>\n      <td>283.284</td>\n    </tr>\n    <tr>\n      <th>35057</th>\n      <td>2022-12-31 22:00:00</td>\n      <td>240.049</td>\n    </tr>\n    <tr>\n      <th>35058</th>\n      <td>2022-12-31 23:00:00</td>\n      <td>216.036</td>\n    </tr>\n    <tr>\n      <th>35059</th>\n      <td>2023-01-01 00:00:00</td>\n      <td>209.268</td>\n    </tr>\n  </tbody>\n</table>\n<p>35060 rows × 2 columns</p>\n</div>"
     },
     "execution_count": 65,
     "metadata": {},
     "output_type": "execute_result"
    }
   ],
   "source": [
    "wind_gen['gen_wind2'] = wind_gen['tot_wind_mwh']\n",
    "wind_gen = wind_gen.drop(columns = ['tot_wind_mwh', '_FREQ_'])\n",
    "wind_gen"
   ],
   "metadata": {
    "collapsed": false
   }
  },
  {
   "cell_type": "code",
   "execution_count": 66,
   "outputs": [
    {
     "data": {
      "text/plain": "         time_tomerge  gen_solar2\n0 2019-01-01 01:00:00         NaN\n1 2019-01-01 02:00:00         NaN\n2 2019-01-01 03:00:00         NaN\n3 2019-01-01 04:00:00         NaN\n4 2019-01-01 05:00:00         NaN\n5 2019-01-01 06:00:00         NaN\n6 2019-01-01 07:00:00       2.196\n7 2019-01-01 08:00:00       7.978\n8 2019-01-01 09:00:00      56.889\n9 2019-01-01 10:00:00     140.145",
      "text/html": "<div>\n<style scoped>\n    .dataframe tbody tr th:only-of-type {\n        vertical-align: middle;\n    }\n\n    .dataframe tbody tr th {\n        vertical-align: top;\n    }\n\n    .dataframe thead th {\n        text-align: right;\n    }\n</style>\n<table border=\"1\" class=\"dataframe\">\n  <thead>\n    <tr style=\"text-align: right;\">\n      <th></th>\n      <th>time_tomerge</th>\n      <th>gen_solar2</th>\n    </tr>\n  </thead>\n  <tbody>\n    <tr>\n      <th>0</th>\n      <td>2019-01-01 01:00:00</td>\n      <td>NaN</td>\n    </tr>\n    <tr>\n      <th>1</th>\n      <td>2019-01-01 02:00:00</td>\n      <td>NaN</td>\n    </tr>\n    <tr>\n      <th>2</th>\n      <td>2019-01-01 03:00:00</td>\n      <td>NaN</td>\n    </tr>\n    <tr>\n      <th>3</th>\n      <td>2019-01-01 04:00:00</td>\n      <td>NaN</td>\n    </tr>\n    <tr>\n      <th>4</th>\n      <td>2019-01-01 05:00:00</td>\n      <td>NaN</td>\n    </tr>\n    <tr>\n      <th>5</th>\n      <td>2019-01-01 06:00:00</td>\n      <td>NaN</td>\n    </tr>\n    <tr>\n      <th>6</th>\n      <td>2019-01-01 07:00:00</td>\n      <td>2.196</td>\n    </tr>\n    <tr>\n      <th>7</th>\n      <td>2019-01-01 08:00:00</td>\n      <td>7.978</td>\n    </tr>\n    <tr>\n      <th>8</th>\n      <td>2019-01-01 09:00:00</td>\n      <td>56.889</td>\n    </tr>\n    <tr>\n      <th>9</th>\n      <td>2019-01-01 10:00:00</td>\n      <td>140.145</td>\n    </tr>\n  </tbody>\n</table>\n</div>"
     },
     "execution_count": 66,
     "metadata": {},
     "output_type": "execute_result"
    }
   ],
   "source": [
    "solar_gen['gen_solar2'] = solar_gen['tot_solar_mwh']\n",
    "solar_gen = solar_gen.drop(columns = ['tot_solar_mwh', '_FREQ_'])\n",
    "solar_gen.head(10)"
   ],
   "metadata": {
    "collapsed": false
   }
  },
  {
   "cell_type": "code",
   "execution_count": 67,
   "outputs": [],
   "source": [
    "generation[\"time_tomerge\"] = pd.to_datetime(generation[\"time_tomerge\"])"
   ],
   "metadata": {
    "collapsed": false
   }
  },
  {
   "cell_type": "code",
   "execution_count": 68,
   "outputs": [],
   "source": [
    "dfs = [energy_rt, energy_da, exchange, generation, load, wind_gen, solar_gen]"
   ],
   "metadata": {
    "collapsed": false
   }
  },
  {
   "cell_type": "code",
   "execution_count": 69,
   "outputs": [
    {
     "name": "stdout",
     "output_type": "stream",
     "text": [
      "Index(['energy_rt', 'congestion_rt', 'losses_rt', 'time_tomerge'], dtype='object')\n"
     ]
    },
    {
     "name": "stderr",
     "output_type": "stream",
     "text": [
      "100%|██████████| 6/6 [00:00<00:00, 22.67it/s]\n"
     ]
    },
    {
     "name": "stdout",
     "output_type": "stream",
     "text": [
      "       energy_rt  congestion_rt  losses_rt              time_tomerge  \\\n",
      "35060        NaN            NaN        NaN 2019-01-01 00:00:00+00:00   \n",
      "0          35.42           0.04       0.19 2019-01-01 01:00:00+00:00   \n",
      "1          38.38           0.00       0.25 2019-01-01 02:00:00+00:00   \n",
      "2          21.09           0.00       0.14 2019-01-01 03:00:00+00:00   \n",
      "3          18.29           0.03       0.13 2019-01-01 04:00:00+00:00   \n",
      "...          ...            ...        ...                       ...   \n",
      "35007      26.27           0.00       0.09 2022-12-31 20:00:00+00:00   \n",
      "35008      25.31           0.00       0.07 2022-12-31 21:00:00+00:00   \n",
      "35009      31.69           0.00       0.11 2022-12-31 22:00:00+00:00   \n",
      "35010      44.16           0.00       0.13 2022-12-31 23:00:00+00:00   \n",
      "35011      58.63           0.00       0.12 2023-01-01 00:00:00+00:00   \n",
      "\n",
      "       energy_da  congestion_da  losses_da  Actual Interchange   Purchases  \\\n",
      "35060        NaN            NaN        NaN                 NaN         NaN   \n",
      "0          25.57           0.02       0.04         -458.916667 -619.458333   \n",
      "1          20.44           0.01       0.04         -454.416667 -603.875000   \n",
      "2          18.84           0.01       0.01         -482.083333 -613.625000   \n",
      "3          19.09           0.01       0.02         -486.875000 -679.625000   \n",
      "...          ...            ...        ...                 ...         ...   \n",
      "35007      38.97           0.00       0.04         -474.375000 -683.166667   \n",
      "35008      38.88           0.00       0.00         -439.666667 -669.833333   \n",
      "35009      38.73           0.00      -0.05         -330.916667 -512.583333   \n",
      "35010      38.69           0.00      -0.04         -309.666667 -503.958333   \n",
      "35011      38.95           0.00       0.00         -314.375000 -508.208333   \n",
      "\n",
      "            Sales  ...  gen_other  gen_refuse  gen_solar    gen_wind  \\\n",
      "35060         NaN  ...        NaN  358.142857        0.0  671.142857   \n",
      "0      160.541667  ...        NaN  361.666667        0.0  751.666667   \n",
      "1      149.458333  ...        NaN  357.125000        0.0  783.875000   \n",
      "2      131.541667  ...        NaN  361.625000        0.0  757.625000   \n",
      "3      192.750000  ...        NaN  355.714286        0.0  648.142857   \n",
      "...           ...  ...        ...         ...        ...         ...   \n",
      "35007  208.791667  ...   5.444444  345.666667        1.0  271.666667   \n",
      "35008  230.166667  ...   4.750000  342.250000        1.0  238.125000   \n",
      "35009  181.666667  ...   6.888889  333.555556        1.0  207.666667   \n",
      "35010  194.291667  ...   1.125000  338.000000        1.0  204.375000   \n",
      "35011  193.833333  ...        NaN         NaN        NaN         NaN   \n",
      "\n",
      "         gen_wood  gen_oil  gen_coal   load_rt  gen_wind2  gen_solar2  \n",
      "35060  368.857143      NaN       0.0       NaN        NaN         NaN  \n",
      "0      374.500000      NaN       0.0  11613.92    683.931         NaN  \n",
      "1      369.000000      NaN       0.0  11496.66    764.107         NaN  \n",
      "2      365.375000      NaN       0.0  11368.76    799.717         NaN  \n",
      "3      370.857143      NaN       0.0  11270.26    770.408         NaN  \n",
      "...           ...      ...       ...       ...        ...         ...  \n",
      "35007  231.777778      NaN       0.0  13362.98    322.118         NaN  \n",
      "35008  231.125000      NaN       0.0  12769.96    283.284         NaN  \n",
      "35009  232.222222      NaN       0.0  12376.44    240.049         NaN  \n",
      "35010  232.625000      NaN       0.0  11509.74    216.036         NaN  \n",
      "35011         NaN      NaN       NaN  10922.34    209.268         NaN  \n",
      "\n",
      "[35065 rows x 24 columns]\n"
     ]
    }
   ],
   "source": [
    "total = dfs[0]\n",
    "print(total.columns)\n",
    "total[\"time_tomerge\"] = pd.to_datetime(total[\"time_tomerge\"],utc =True)\n",
    "for df in tqdm(dfs[1:]):\n",
    "    df[\"time_tomerge\"] = pd.to_datetime(df[\"time_tomerge\"],utc =True)\n",
    "    total = pd.merge(total, df, on=\"time_tomerge\", how = \"outer\")\n",
    "total = total.sort_values(by=\"time_tomerge\")\n",
    "total = total.drop_duplicates('time_tomerge')\n",
    "print(total)"
   ],
   "metadata": {
    "collapsed": false
   }
  },
  {
   "cell_type": "code",
   "execution_count": 70,
   "outputs": [],
   "source": [
    "ISO_final[\"ISONE\"] = ISO_final[\"ISONE\"].reset_index()\n",
    "ISO_final[\"ISONE\"][\"time_tomerge\"] = ISO_final[\"ISONE\"][\"time_tomerge\"] - timedelta(hours=5)"
   ],
   "metadata": {
    "collapsed": false
   }
  },
  {
   "cell_type": "code",
   "execution_count": 75,
   "outputs": [
    {
     "data": {
      "text/plain": "                   time_tomerge  congestion_da  congestion_rt  energy_da  \\\n0     2014-01-01 00:00:00+00:00            0.0            0.0      62.04   \n1     2014-01-01 01:00:00+00:00            0.0            0.0      54.65   \n2     2014-01-01 02:00:00+00:00            0.0            0.0      38.40   \n3     2014-01-01 03:00:00+00:00            0.0            0.0      38.02   \n4     2014-01-01 04:00:00+00:00            0.0            0.0      37.48   \n...                         ...            ...            ...        ...   \n35007 2022-12-31 20:00:00+00:00            0.0            0.0      38.97   \n35008 2022-12-31 21:00:00+00:00            0.0            0.0      38.88   \n35009 2022-12-31 22:00:00+00:00            0.0            0.0      38.73   \n35010 2022-12-31 23:00:00+00:00            0.0            0.0      38.69   \n35011 2023-01-01 00:00:00+00:00            0.0            0.0      38.95   \n\n       energy_rt  exchange_rt                 unnamed: 0  gas_price  gen_coal  \\\n0         117.43      -3134.0  2014-01-01 00:00:00-05:00  20.151667       NaN   \n1         148.38      -3168.0  2014-01-01 01:00:00-05:00  20.151667       NaN   \n2          97.06      -3550.0  2014-01-01 02:00:00-05:00  20.151667       NaN   \n3          38.54      -3883.0  2014-01-01 03:00:00-05:00  20.151667       NaN   \n4          79.01      -3806.0  2014-01-01 04:00:00-05:00  20.151667       NaN   \n...          ...          ...                        ...        ...       ...   \n35007      26.27          NaN                        NaN        NaN       0.0   \n35008      25.31          NaN                        NaN        NaN       0.0   \n35009      31.69          NaN                        NaN        NaN       0.0   \n35010      44.16          NaN                        NaN        NaN       0.0   \n35011      58.63          NaN                        NaN        NaN       NaN   \n\n         gen_hydro  ...   load_rt  losses_da  losses_rt  regulation_price  \\\n0              NaN  ...  14312.05   -0.17375   -0.05125             38.92   \n1              NaN  ...  14235.98   -0.15500   -0.02375             59.24   \n2              NaN  ...  14364.54   -0.07500   -0.02875             43.18   \n3              NaN  ...  14258.79   -0.09625   -0.03625             81.93   \n4              NaN  ...  14300.04   -0.08875   -0.08000             49.27   \n...            ...  ...       ...        ...        ...               ...   \n35007  1142.666667  ...  13362.98    0.04000    0.09000               NaN   \n35008  1141.750000  ...  12769.96    0.00000    0.07000               NaN   \n35009  1173.666667  ...  12376.44   -0.05000    0.11000               NaN   \n35010  1210.375000  ...  11509.74   -0.04000    0.13000               NaN   \n35011          NaN  ...  10922.34    0.00000    0.12000               NaN   \n\n       regulation_quantity  reserves_price  reserves_quantity  \\\n0                    38.92             0.0            526.100   \n1                    59.24             0.0            441.233   \n2                    43.18             0.0            541.325   \n3                    81.93             0.0            641.900   \n4                    49.27             0.0            651.575   \n...                    ...             ...                ...   \n35007                  NaN             NaN                NaN   \n35008                  NaN             NaN                NaN   \n35009                  NaN             NaN                NaN   \n35010                  NaN             NaN                NaN   \n35011                  NaN             NaN                NaN   \n\n       Actual Interchange   Purchases       Sales  \n0                     NaN         NaN         NaN  \n1                     NaN         NaN         NaN  \n2                     NaN         NaN         NaN  \n3                     NaN         NaN         NaN  \n4                     NaN         NaN         NaN  \n...                   ...         ...         ...  \n35007         -474.375000 -683.166667  208.791667  \n35008         -439.666667 -669.833333  230.166667  \n35009         -330.916667 -512.583333  181.666667  \n35010         -309.666667 -503.958333  194.291667  \n35011         -314.375000 -508.208333  193.833333  \n\n[78889 rows x 29 columns]",
      "text/html": "<div>\n<style scoped>\n    .dataframe tbody tr th:only-of-type {\n        vertical-align: middle;\n    }\n\n    .dataframe tbody tr th {\n        vertical-align: top;\n    }\n\n    .dataframe thead th {\n        text-align: right;\n    }\n</style>\n<table border=\"1\" class=\"dataframe\">\n  <thead>\n    <tr style=\"text-align: right;\">\n      <th></th>\n      <th>time_tomerge</th>\n      <th>congestion_da</th>\n      <th>congestion_rt</th>\n      <th>energy_da</th>\n      <th>energy_rt</th>\n      <th>exchange_rt</th>\n      <th>unnamed: 0</th>\n      <th>gas_price</th>\n      <th>gen_coal</th>\n      <th>gen_hydro</th>\n      <th>...</th>\n      <th>load_rt</th>\n      <th>losses_da</th>\n      <th>losses_rt</th>\n      <th>regulation_price</th>\n      <th>regulation_quantity</th>\n      <th>reserves_price</th>\n      <th>reserves_quantity</th>\n      <th>Actual Interchange</th>\n      <th>Purchases</th>\n      <th>Sales</th>\n    </tr>\n  </thead>\n  <tbody>\n    <tr>\n      <th>0</th>\n      <td>2014-01-01 00:00:00+00:00</td>\n      <td>0.0</td>\n      <td>0.0</td>\n      <td>62.04</td>\n      <td>117.43</td>\n      <td>-3134.0</td>\n      <td>2014-01-01 00:00:00-05:00</td>\n      <td>20.151667</td>\n      <td>NaN</td>\n      <td>NaN</td>\n      <td>...</td>\n      <td>14312.05</td>\n      <td>-0.17375</td>\n      <td>-0.05125</td>\n      <td>38.92</td>\n      <td>38.92</td>\n      <td>0.0</td>\n      <td>526.100</td>\n      <td>NaN</td>\n      <td>NaN</td>\n      <td>NaN</td>\n    </tr>\n    <tr>\n      <th>1</th>\n      <td>2014-01-01 01:00:00+00:00</td>\n      <td>0.0</td>\n      <td>0.0</td>\n      <td>54.65</td>\n      <td>148.38</td>\n      <td>-3168.0</td>\n      <td>2014-01-01 01:00:00-05:00</td>\n      <td>20.151667</td>\n      <td>NaN</td>\n      <td>NaN</td>\n      <td>...</td>\n      <td>14235.98</td>\n      <td>-0.15500</td>\n      <td>-0.02375</td>\n      <td>59.24</td>\n      <td>59.24</td>\n      <td>0.0</td>\n      <td>441.233</td>\n      <td>NaN</td>\n      <td>NaN</td>\n      <td>NaN</td>\n    </tr>\n    <tr>\n      <th>2</th>\n      <td>2014-01-01 02:00:00+00:00</td>\n      <td>0.0</td>\n      <td>0.0</td>\n      <td>38.40</td>\n      <td>97.06</td>\n      <td>-3550.0</td>\n      <td>2014-01-01 02:00:00-05:00</td>\n      <td>20.151667</td>\n      <td>NaN</td>\n      <td>NaN</td>\n      <td>...</td>\n      <td>14364.54</td>\n      <td>-0.07500</td>\n      <td>-0.02875</td>\n      <td>43.18</td>\n      <td>43.18</td>\n      <td>0.0</td>\n      <td>541.325</td>\n      <td>NaN</td>\n      <td>NaN</td>\n      <td>NaN</td>\n    </tr>\n    <tr>\n      <th>3</th>\n      <td>2014-01-01 03:00:00+00:00</td>\n      <td>0.0</td>\n      <td>0.0</td>\n      <td>38.02</td>\n      <td>38.54</td>\n      <td>-3883.0</td>\n      <td>2014-01-01 03:00:00-05:00</td>\n      <td>20.151667</td>\n      <td>NaN</td>\n      <td>NaN</td>\n      <td>...</td>\n      <td>14258.79</td>\n      <td>-0.09625</td>\n      <td>-0.03625</td>\n      <td>81.93</td>\n      <td>81.93</td>\n      <td>0.0</td>\n      <td>641.900</td>\n      <td>NaN</td>\n      <td>NaN</td>\n      <td>NaN</td>\n    </tr>\n    <tr>\n      <th>4</th>\n      <td>2014-01-01 04:00:00+00:00</td>\n      <td>0.0</td>\n      <td>0.0</td>\n      <td>37.48</td>\n      <td>79.01</td>\n      <td>-3806.0</td>\n      <td>2014-01-01 04:00:00-05:00</td>\n      <td>20.151667</td>\n      <td>NaN</td>\n      <td>NaN</td>\n      <td>...</td>\n      <td>14300.04</td>\n      <td>-0.08875</td>\n      <td>-0.08000</td>\n      <td>49.27</td>\n      <td>49.27</td>\n      <td>0.0</td>\n      <td>651.575</td>\n      <td>NaN</td>\n      <td>NaN</td>\n      <td>NaN</td>\n    </tr>\n    <tr>\n      <th>...</th>\n      <td>...</td>\n      <td>...</td>\n      <td>...</td>\n      <td>...</td>\n      <td>...</td>\n      <td>...</td>\n      <td>...</td>\n      <td>...</td>\n      <td>...</td>\n      <td>...</td>\n      <td>...</td>\n      <td>...</td>\n      <td>...</td>\n      <td>...</td>\n      <td>...</td>\n      <td>...</td>\n      <td>...</td>\n      <td>...</td>\n      <td>...</td>\n      <td>...</td>\n      <td>...</td>\n    </tr>\n    <tr>\n      <th>35007</th>\n      <td>2022-12-31 20:00:00+00:00</td>\n      <td>0.0</td>\n      <td>0.0</td>\n      <td>38.97</td>\n      <td>26.27</td>\n      <td>NaN</td>\n      <td>NaN</td>\n      <td>NaN</td>\n      <td>0.0</td>\n      <td>1142.666667</td>\n      <td>...</td>\n      <td>13362.98</td>\n      <td>0.04000</td>\n      <td>0.09000</td>\n      <td>NaN</td>\n      <td>NaN</td>\n      <td>NaN</td>\n      <td>NaN</td>\n      <td>-474.375000</td>\n      <td>-683.166667</td>\n      <td>208.791667</td>\n    </tr>\n    <tr>\n      <th>35008</th>\n      <td>2022-12-31 21:00:00+00:00</td>\n      <td>0.0</td>\n      <td>0.0</td>\n      <td>38.88</td>\n      <td>25.31</td>\n      <td>NaN</td>\n      <td>NaN</td>\n      <td>NaN</td>\n      <td>0.0</td>\n      <td>1141.750000</td>\n      <td>...</td>\n      <td>12769.96</td>\n      <td>0.00000</td>\n      <td>0.07000</td>\n      <td>NaN</td>\n      <td>NaN</td>\n      <td>NaN</td>\n      <td>NaN</td>\n      <td>-439.666667</td>\n      <td>-669.833333</td>\n      <td>230.166667</td>\n    </tr>\n    <tr>\n      <th>35009</th>\n      <td>2022-12-31 22:00:00+00:00</td>\n      <td>0.0</td>\n      <td>0.0</td>\n      <td>38.73</td>\n      <td>31.69</td>\n      <td>NaN</td>\n      <td>NaN</td>\n      <td>NaN</td>\n      <td>0.0</td>\n      <td>1173.666667</td>\n      <td>...</td>\n      <td>12376.44</td>\n      <td>-0.05000</td>\n      <td>0.11000</td>\n      <td>NaN</td>\n      <td>NaN</td>\n      <td>NaN</td>\n      <td>NaN</td>\n      <td>-330.916667</td>\n      <td>-512.583333</td>\n      <td>181.666667</td>\n    </tr>\n    <tr>\n      <th>35010</th>\n      <td>2022-12-31 23:00:00+00:00</td>\n      <td>0.0</td>\n      <td>0.0</td>\n      <td>38.69</td>\n      <td>44.16</td>\n      <td>NaN</td>\n      <td>NaN</td>\n      <td>NaN</td>\n      <td>0.0</td>\n      <td>1210.375000</td>\n      <td>...</td>\n      <td>11509.74</td>\n      <td>-0.04000</td>\n      <td>0.13000</td>\n      <td>NaN</td>\n      <td>NaN</td>\n      <td>NaN</td>\n      <td>NaN</td>\n      <td>-309.666667</td>\n      <td>-503.958333</td>\n      <td>194.291667</td>\n    </tr>\n    <tr>\n      <th>35011</th>\n      <td>2023-01-01 00:00:00+00:00</td>\n      <td>0.0</td>\n      <td>0.0</td>\n      <td>38.95</td>\n      <td>58.63</td>\n      <td>NaN</td>\n      <td>NaN</td>\n      <td>NaN</td>\n      <td>NaN</td>\n      <td>NaN</td>\n      <td>...</td>\n      <td>10922.34</td>\n      <td>0.00000</td>\n      <td>0.12000</td>\n      <td>NaN</td>\n      <td>NaN</td>\n      <td>NaN</td>\n      <td>NaN</td>\n      <td>-314.375000</td>\n      <td>-508.208333</td>\n      <td>193.833333</td>\n    </tr>\n  </tbody>\n</table>\n<p>78889 rows × 29 columns</p>\n</div>"
     },
     "execution_count": 75,
     "metadata": {},
     "output_type": "execute_result"
    }
   ],
   "source": [
    "final = pd.concat([ISO_final[\"ISONE\"], total])\n",
    "final.drop(columns=[\"gen_solar2\", \"gen_wind2\"])"
   ],
   "metadata": {
    "collapsed": false
   }
  },
  {
   "cell_type": "code",
   "execution_count": 76,
   "outputs": [],
   "source": [
    "final.to_csv(\"/Users/evanlipton/Dropbox (YSE)/Solar_ElectricData/ISOs/ISONE.csv\")\n"
   ],
   "metadata": {
    "collapsed": false
   }
  },
  {
   "cell_type": "code",
   "execution_count": null,
   "outputs": [],
   "source": [],
   "metadata": {
    "collapsed": false
   }
  },
  {
   "cell_type": "code",
   "execution_count": null,
   "outputs": [],
   "source": [],
   "metadata": {
    "collapsed": false
   }
  },
  {
   "cell_type": "code",
   "execution_count": null,
   "outputs": [],
   "source": [],
   "metadata": {
    "collapsed": false
   }
  },
  {
   "cell_type": "code",
   "execution_count": 36,
   "outputs": [
    {
     "data": {
      "text/plain": "       Locational Marginal Price  Energy Component  Congestion Component  \\\n7356                   15.977134             16.08             -0.013729   \n7357                   15.977134             16.08             -0.013729   \n7667                   21.587866             21.67              0.000000   \n7668                   21.587866             21.67              0.000000   \n7689                   26.018581             26.09             -0.003010   \n7688                   26.016111             26.09              0.000000   \n15172                  12.169522             12.22             -0.004660   \n15173                  12.162063             12.22              0.000000   \n15322                  15.685303             15.77              0.000000   \n15323                  15.685303             15.77              0.000000   \n15337                   8.843486              8.87              0.000000   \n15338                   8.820606              8.87              0.000000   \n15912                  38.391392             39.20             -0.282977   \n15911                  38.814279             39.20             -0.174503   \n16037                  26.899858             27.00             -0.000014   \n16038                  26.899940             27.00              0.000000   \n16091                  30.299947             31.52             -1.056979   \n16092                  31.084103             31.52             -0.374933   \n16760                   0.785042              0.79              0.000000   \n16759                   0.785042              0.79              0.000000   \n28168                  32.152107             32.33             -0.015546   \n28169                  31.973841             32.33              0.000000   \n30460                  84.828782             85.04              0.000000   \n30461                  84.828782             85.04              0.000000   \n31560                 205.407009            207.48              0.000000   \n31561                 205.407009            207.48              0.000000   \n32645                  40.163587             41.05             -0.512651   \n32644                  40.163587             41.05             -0.512651   \n33695                  42.507336             42.74             -0.025551   \n33696                  42.507336             42.74             -0.025551   \n\n       Marginal Loss Component              time_tomerge  energy_da  \\\n7356                 -0.089137 2019-11-03 14:00:00+00:00      18.18   \n7357                 -0.089137 2019-11-03 14:00:00+00:00      18.18   \n7667                 -0.082134 2019-11-16 12:00:00+00:00      26.59   \n7668                 -0.082134 2019-11-16 12:00:00+00:00      26.59   \n7689                 -0.068409 2019-11-17 08:00:00+00:00      41.38   \n7688                 -0.073889 2019-11-17 08:00:00+00:00      41.38   \n15172                -0.045818 2020-09-24 04:00:00+00:00      11.33   \n15173                -0.057937 2020-09-24 04:00:00+00:00      11.33   \n15322                -0.084697 2020-09-30 09:00:00+00:00      25.81   \n15323                -0.084697 2020-09-30 09:00:00+00:00      25.81   \n15337                -0.026514 2020-09-30 23:00:00+00:00      13.07   \n15338                -0.049394 2020-09-30 23:00:00+00:00      13.07   \n15912                -0.525631 2020-10-24 20:00:00+00:00      24.53   \n15911                -0.211218 2020-10-24 20:00:00+00:00      24.53   \n16037                -0.100128 2020-10-30 01:00:00+00:00      44.36   \n16038                -0.100060 2020-10-30 01:00:00+00:00      44.36   \n16091                -0.163074 2020-11-01 06:00:00+00:00      38.54   \n16092                -0.060964 2020-11-01 06:00:00+00:00      38.54   \n16760                -0.004958 2020-11-29 01:00:00+00:00      13.48   \n16759                -0.004958 2020-11-29 01:00:00+00:00      13.48   \n28168                -0.162347 2022-03-21 11:00:00+00:00      37.33   \n28169                -0.356159 2022-03-21 11:00:00+00:00      37.33   \n30460                -0.211218 2022-06-24 22:00:00+00:00      64.93   \n30461                -0.211218 2022-06-24 22:00:00+00:00      64.93   \n31560                -2.072991 2022-08-09 17:00:00+00:00     261.87   \n31561                -2.072991 2022-08-09 17:00:00+00:00     261.87   \n32645                -0.373761 2022-09-23 20:00:00+00:00      79.28   \n32644                -0.373761 2022-09-23 20:00:00+00:00      79.28   \n33695                -0.207113 2022-11-06 14:00:00+00:00      33.68   \n33696                -0.207113 2022-11-06 14:00:00+00:00      33.68   \n\n       congestion_da  losses_da  Actual Interchange   Purchases  ...  \\\n7356        0.000000  -0.192525         -466.291667 -620.208333  ...   \n7357        0.000000  -0.170640         -466.291667 -620.208333  ...   \n7667        0.000000  -0.156324         -455.041667 -605.208333  ...   \n7668        0.000000  -0.046400         -455.041667 -605.208333  ...   \n7689       -0.008929  -0.185555         -546.666667 -658.833333  ...   \n7688       -0.008929  -0.185555         -546.666667 -658.833333  ...   \n15172      -0.117021  -0.062656         -204.416667 -242.666667  ...   \n15173      -0.117021  -0.062656         -204.416667 -242.666667  ...   \n15322      -0.123951  -0.172840         -568.791667 -638.833333  ...   \n15323      -0.094584  -0.117110         -568.791667 -638.833333  ...   \n15337      -0.006174  -0.056954         -427.041667 -585.500000  ...   \n15338      -0.006174  -0.056954         -427.041667 -585.500000  ...   \n15912      -0.354502  -0.220249         -461.833333 -511.666667  ...   \n15911      -0.354502  -0.220249         -461.833333 -511.666667  ...   \n16037      -0.147359  -0.250955         -513.625000 -572.708333  ...   \n16038      -0.147359  -0.250955         -513.625000 -572.708333  ...   \n16091      -0.202359  -0.221977         -426.833333 -613.166667  ...   \n16092      -0.202359  -0.221977         -426.833333 -613.166667  ...   \n16760       0.000000  -0.074524         -474.625000 -606.041667  ...   \n16759       0.000000  -0.102746         -474.625000 -606.041667  ...   \n28168      -0.454942  -0.259255         -122.000000 -465.500000  ...   \n28169      -0.454942  -0.259255         -122.000000 -465.500000  ...   \n30460       0.000000  -0.271288         -358.375000 -498.375000  ...   \n30461       0.000000  -0.003812         -358.375000 -498.375000  ...   \n31560       0.000000  -2.990187         -308.583333 -537.541667  ...   \n31561       0.000000  -2.195957         -308.583333 -537.541667  ...   \n32645      -1.161470  -0.602928           10.833333 -280.666667  ...   \n32644      -2.387583  -1.201159           10.833333 -280.666667  ...   \n33695      -0.150829  -0.271886         -242.125000 -520.458333  ...   \n33696      -0.063627  -0.066889         -242.125000 -520.458333  ...   \n\n       gen_other  gen_refuse   gen_solar     gen_wind    gen_wood     gen_oil  \\\n7356         NaN         NaN         NaN          NaN         NaN         NaN   \n7357         NaN         NaN         NaN          NaN         NaN         NaN   \n7667    0.500000  379.000000  137.500000   542.750000  310.500000         NaN   \n7668    0.500000  379.000000  137.500000   542.750000  310.500000         NaN   \n7689         NaN         NaN         NaN          NaN         NaN         NaN   \n7688         NaN         NaN         NaN          NaN         NaN         NaN   \n15172   9.250000  311.500000    0.000000   453.750000  237.500000    0.000000   \n15173   9.250000  311.500000    0.000000   453.750000  237.500000    0.000000   \n15322   2.333333  326.555556   57.888889   784.666667  202.888889    7.777778   \n15323   2.333333  326.555556   57.888889   784.666667  202.888889    7.777778   \n15337   7.666667  315.166667    0.000000   646.500000  194.666667    0.000000   \n15338   7.666667  315.166667    0.000000   646.500000  194.666667    0.000000   \n15912   1.714286  400.142857    0.000000   867.428571  222.857143    2.142857   \n15911   1.714286  400.142857    0.000000   867.428571  222.857143    2.142857   \n16037   2.500000  364.000000    0.000000   427.750000  298.250000    0.000000   \n16038   2.500000  364.000000    0.000000   427.750000  298.250000    0.000000   \n16091        NaN         NaN         NaN          NaN         NaN         NaN   \n16092        NaN         NaN         NaN          NaN         NaN         NaN   \n16760   1.250000  374.875000    0.000000   710.375000  240.000000         NaN   \n16759   1.250000  374.875000    0.000000   710.375000  240.000000         NaN   \n28168   4.000000  261.333333  365.000000  1106.333333  285.000000         NaN   \n28169   4.000000  261.333333  365.000000  1106.333333  285.000000         NaN   \n30460  12.200000  369.400000    0.000000   228.100000  258.900000         NaN   \n30461  12.200000  369.400000    0.000000   228.100000  258.900000         NaN   \n31560  52.714286  275.857143   56.285714   214.428571  228.714286  112.714286   \n31561  52.714286  275.857143   56.285714   214.428571  228.714286  112.714286   \n32645   5.888889  331.333333    0.000000  1109.111111  154.444444    0.000000   \n32644   5.888889  331.333333    0.000000  1109.111111  154.444444    0.000000   \n33695   2.444444  332.777778   80.666667   776.555556  185.666667         NaN   \n33696   2.444444  332.777778   80.666667   776.555556  185.666667         NaN   \n\n         gen_coal   load_rt  gen_wind2  gen_solar2  \n7356          NaN  11406.72    417.664     608.719  \n7357          NaN  11406.72    417.664     608.719  \n7667          NaN  12207.97    499.740    1014.919  \n7668          NaN  12207.97    499.740    1014.919  \n7689          NaN  13041.23    179.935      59.641  \n7688          NaN  13041.23    179.935      59.641  \n15172    0.000000  10016.68    575.224         NaN  \n15173    0.000000  10016.68    575.224         NaN  \n15322    0.000000  14770.27    870.562     116.097  \n15323    0.000000  14770.27    870.562     116.097  \n15337    0.500000  11811.24    595.249         NaN  \n15338    0.500000  11811.24    595.249         NaN  \n15912         NaN  12714.98    885.565         NaN  \n15911         NaN  12714.98    885.565         NaN  \n16037    0.000000  11058.83    423.815         NaN  \n16038    0.000000  11058.83    423.815         NaN  \n16091         NaN  11030.94    678.961       2.352  \n16092         NaN  11030.94    678.961       2.352  \n16760    0.000000  10646.68    577.275         NaN  \n16759    0.000000  10646.68    577.275         NaN  \n28168    2.000000  11377.56    922.918    1743.223  \n28169    2.000000  11377.56    922.918    1743.223  \n30460    0.000000  15414.58    214.108         NaN  \n30461    0.000000  15414.58    214.108         NaN  \n31560  217.285714  23213.29    225.958     883.654  \n31561  217.285714  23213.29    225.958     883.654  \n32645    0.555556  13140.72   1128.155         NaN  \n32644    0.555556  13140.72   1128.155         NaN  \n33695         NaN  12059.01    806.690     516.011  \n33696         NaN  12059.01    806.690     516.011  \n\n[30 rows x 25 columns]",
      "text/html": "<div>\n<style scoped>\n    .dataframe tbody tr th:only-of-type {\n        vertical-align: middle;\n    }\n\n    .dataframe tbody tr th {\n        vertical-align: top;\n    }\n\n    .dataframe thead th {\n        text-align: right;\n    }\n</style>\n<table border=\"1\" class=\"dataframe\">\n  <thead>\n    <tr style=\"text-align: right;\">\n      <th></th>\n      <th>Locational Marginal Price</th>\n      <th>Energy Component</th>\n      <th>Congestion Component</th>\n      <th>Marginal Loss Component</th>\n      <th>time_tomerge</th>\n      <th>energy_da</th>\n      <th>congestion_da</th>\n      <th>losses_da</th>\n      <th>Actual Interchange</th>\n      <th>Purchases</th>\n      <th>...</th>\n      <th>gen_other</th>\n      <th>gen_refuse</th>\n      <th>gen_solar</th>\n      <th>gen_wind</th>\n      <th>gen_wood</th>\n      <th>gen_oil</th>\n      <th>gen_coal</th>\n      <th>load_rt</th>\n      <th>gen_wind2</th>\n      <th>gen_solar2</th>\n    </tr>\n  </thead>\n  <tbody>\n    <tr>\n      <th>7356</th>\n      <td>15.977134</td>\n      <td>16.08</td>\n      <td>-0.013729</td>\n      <td>-0.089137</td>\n      <td>2019-11-03 14:00:00+00:00</td>\n      <td>18.18</td>\n      <td>0.000000</td>\n      <td>-0.192525</td>\n      <td>-466.291667</td>\n      <td>-620.208333</td>\n      <td>...</td>\n      <td>NaN</td>\n      <td>NaN</td>\n      <td>NaN</td>\n      <td>NaN</td>\n      <td>NaN</td>\n      <td>NaN</td>\n      <td>NaN</td>\n      <td>11406.72</td>\n      <td>417.664</td>\n      <td>608.719</td>\n    </tr>\n    <tr>\n      <th>7357</th>\n      <td>15.977134</td>\n      <td>16.08</td>\n      <td>-0.013729</td>\n      <td>-0.089137</td>\n      <td>2019-11-03 14:00:00+00:00</td>\n      <td>18.18</td>\n      <td>0.000000</td>\n      <td>-0.170640</td>\n      <td>-466.291667</td>\n      <td>-620.208333</td>\n      <td>...</td>\n      <td>NaN</td>\n      <td>NaN</td>\n      <td>NaN</td>\n      <td>NaN</td>\n      <td>NaN</td>\n      <td>NaN</td>\n      <td>NaN</td>\n      <td>11406.72</td>\n      <td>417.664</td>\n      <td>608.719</td>\n    </tr>\n    <tr>\n      <th>7667</th>\n      <td>21.587866</td>\n      <td>21.67</td>\n      <td>0.000000</td>\n      <td>-0.082134</td>\n      <td>2019-11-16 12:00:00+00:00</td>\n      <td>26.59</td>\n      <td>0.000000</td>\n      <td>-0.156324</td>\n      <td>-455.041667</td>\n      <td>-605.208333</td>\n      <td>...</td>\n      <td>0.500000</td>\n      <td>379.000000</td>\n      <td>137.500000</td>\n      <td>542.750000</td>\n      <td>310.500000</td>\n      <td>NaN</td>\n      <td>NaN</td>\n      <td>12207.97</td>\n      <td>499.740</td>\n      <td>1014.919</td>\n    </tr>\n    <tr>\n      <th>7668</th>\n      <td>21.587866</td>\n      <td>21.67</td>\n      <td>0.000000</td>\n      <td>-0.082134</td>\n      <td>2019-11-16 12:00:00+00:00</td>\n      <td>26.59</td>\n      <td>0.000000</td>\n      <td>-0.046400</td>\n      <td>-455.041667</td>\n      <td>-605.208333</td>\n      <td>...</td>\n      <td>0.500000</td>\n      <td>379.000000</td>\n      <td>137.500000</td>\n      <td>542.750000</td>\n      <td>310.500000</td>\n      <td>NaN</td>\n      <td>NaN</td>\n      <td>12207.97</td>\n      <td>499.740</td>\n      <td>1014.919</td>\n    </tr>\n    <tr>\n      <th>7689</th>\n      <td>26.018581</td>\n      <td>26.09</td>\n      <td>-0.003010</td>\n      <td>-0.068409</td>\n      <td>2019-11-17 08:00:00+00:00</td>\n      <td>41.38</td>\n      <td>-0.008929</td>\n      <td>-0.185555</td>\n      <td>-546.666667</td>\n      <td>-658.833333</td>\n      <td>...</td>\n      <td>NaN</td>\n      <td>NaN</td>\n      <td>NaN</td>\n      <td>NaN</td>\n      <td>NaN</td>\n      <td>NaN</td>\n      <td>NaN</td>\n      <td>13041.23</td>\n      <td>179.935</td>\n      <td>59.641</td>\n    </tr>\n    <tr>\n      <th>7688</th>\n      <td>26.016111</td>\n      <td>26.09</td>\n      <td>0.000000</td>\n      <td>-0.073889</td>\n      <td>2019-11-17 08:00:00+00:00</td>\n      <td>41.38</td>\n      <td>-0.008929</td>\n      <td>-0.185555</td>\n      <td>-546.666667</td>\n      <td>-658.833333</td>\n      <td>...</td>\n      <td>NaN</td>\n      <td>NaN</td>\n      <td>NaN</td>\n      <td>NaN</td>\n      <td>NaN</td>\n      <td>NaN</td>\n      <td>NaN</td>\n      <td>13041.23</td>\n      <td>179.935</td>\n      <td>59.641</td>\n    </tr>\n    <tr>\n      <th>15172</th>\n      <td>12.169522</td>\n      <td>12.22</td>\n      <td>-0.004660</td>\n      <td>-0.045818</td>\n      <td>2020-09-24 04:00:00+00:00</td>\n      <td>11.33</td>\n      <td>-0.117021</td>\n      <td>-0.062656</td>\n      <td>-204.416667</td>\n      <td>-242.666667</td>\n      <td>...</td>\n      <td>9.250000</td>\n      <td>311.500000</td>\n      <td>0.000000</td>\n      <td>453.750000</td>\n      <td>237.500000</td>\n      <td>0.000000</td>\n      <td>0.000000</td>\n      <td>10016.68</td>\n      <td>575.224</td>\n      <td>NaN</td>\n    </tr>\n    <tr>\n      <th>15173</th>\n      <td>12.162063</td>\n      <td>12.22</td>\n      <td>0.000000</td>\n      <td>-0.057937</td>\n      <td>2020-09-24 04:00:00+00:00</td>\n      <td>11.33</td>\n      <td>-0.117021</td>\n      <td>-0.062656</td>\n      <td>-204.416667</td>\n      <td>-242.666667</td>\n      <td>...</td>\n      <td>9.250000</td>\n      <td>311.500000</td>\n      <td>0.000000</td>\n      <td>453.750000</td>\n      <td>237.500000</td>\n      <td>0.000000</td>\n      <td>0.000000</td>\n      <td>10016.68</td>\n      <td>575.224</td>\n      <td>NaN</td>\n    </tr>\n    <tr>\n      <th>15322</th>\n      <td>15.685303</td>\n      <td>15.77</td>\n      <td>0.000000</td>\n      <td>-0.084697</td>\n      <td>2020-09-30 09:00:00+00:00</td>\n      <td>25.81</td>\n      <td>-0.123951</td>\n      <td>-0.172840</td>\n      <td>-568.791667</td>\n      <td>-638.833333</td>\n      <td>...</td>\n      <td>2.333333</td>\n      <td>326.555556</td>\n      <td>57.888889</td>\n      <td>784.666667</td>\n      <td>202.888889</td>\n      <td>7.777778</td>\n      <td>0.000000</td>\n      <td>14770.27</td>\n      <td>870.562</td>\n      <td>116.097</td>\n    </tr>\n    <tr>\n      <th>15323</th>\n      <td>15.685303</td>\n      <td>15.77</td>\n      <td>0.000000</td>\n      <td>-0.084697</td>\n      <td>2020-09-30 09:00:00+00:00</td>\n      <td>25.81</td>\n      <td>-0.094584</td>\n      <td>-0.117110</td>\n      <td>-568.791667</td>\n      <td>-638.833333</td>\n      <td>...</td>\n      <td>2.333333</td>\n      <td>326.555556</td>\n      <td>57.888889</td>\n      <td>784.666667</td>\n      <td>202.888889</td>\n      <td>7.777778</td>\n      <td>0.000000</td>\n      <td>14770.27</td>\n      <td>870.562</td>\n      <td>116.097</td>\n    </tr>\n    <tr>\n      <th>15337</th>\n      <td>8.843486</td>\n      <td>8.87</td>\n      <td>0.000000</td>\n      <td>-0.026514</td>\n      <td>2020-09-30 23:00:00+00:00</td>\n      <td>13.07</td>\n      <td>-0.006174</td>\n      <td>-0.056954</td>\n      <td>-427.041667</td>\n      <td>-585.500000</td>\n      <td>...</td>\n      <td>7.666667</td>\n      <td>315.166667</td>\n      <td>0.000000</td>\n      <td>646.500000</td>\n      <td>194.666667</td>\n      <td>0.000000</td>\n      <td>0.500000</td>\n      <td>11811.24</td>\n      <td>595.249</td>\n      <td>NaN</td>\n    </tr>\n    <tr>\n      <th>15338</th>\n      <td>8.820606</td>\n      <td>8.87</td>\n      <td>0.000000</td>\n      <td>-0.049394</td>\n      <td>2020-09-30 23:00:00+00:00</td>\n      <td>13.07</td>\n      <td>-0.006174</td>\n      <td>-0.056954</td>\n      <td>-427.041667</td>\n      <td>-585.500000</td>\n      <td>...</td>\n      <td>7.666667</td>\n      <td>315.166667</td>\n      <td>0.000000</td>\n      <td>646.500000</td>\n      <td>194.666667</td>\n      <td>0.000000</td>\n      <td>0.500000</td>\n      <td>11811.24</td>\n      <td>595.249</td>\n      <td>NaN</td>\n    </tr>\n    <tr>\n      <th>15912</th>\n      <td>38.391392</td>\n      <td>39.20</td>\n      <td>-0.282977</td>\n      <td>-0.525631</td>\n      <td>2020-10-24 20:00:00+00:00</td>\n      <td>24.53</td>\n      <td>-0.354502</td>\n      <td>-0.220249</td>\n      <td>-461.833333</td>\n      <td>-511.666667</td>\n      <td>...</td>\n      <td>1.714286</td>\n      <td>400.142857</td>\n      <td>0.000000</td>\n      <td>867.428571</td>\n      <td>222.857143</td>\n      <td>2.142857</td>\n      <td>NaN</td>\n      <td>12714.98</td>\n      <td>885.565</td>\n      <td>NaN</td>\n    </tr>\n    <tr>\n      <th>15911</th>\n      <td>38.814279</td>\n      <td>39.20</td>\n      <td>-0.174503</td>\n      <td>-0.211218</td>\n      <td>2020-10-24 20:00:00+00:00</td>\n      <td>24.53</td>\n      <td>-0.354502</td>\n      <td>-0.220249</td>\n      <td>-461.833333</td>\n      <td>-511.666667</td>\n      <td>...</td>\n      <td>1.714286</td>\n      <td>400.142857</td>\n      <td>0.000000</td>\n      <td>867.428571</td>\n      <td>222.857143</td>\n      <td>2.142857</td>\n      <td>NaN</td>\n      <td>12714.98</td>\n      <td>885.565</td>\n      <td>NaN</td>\n    </tr>\n    <tr>\n      <th>16037</th>\n      <td>26.899858</td>\n      <td>27.00</td>\n      <td>-0.000014</td>\n      <td>-0.100128</td>\n      <td>2020-10-30 01:00:00+00:00</td>\n      <td>44.36</td>\n      <td>-0.147359</td>\n      <td>-0.250955</td>\n      <td>-513.625000</td>\n      <td>-572.708333</td>\n      <td>...</td>\n      <td>2.500000</td>\n      <td>364.000000</td>\n      <td>0.000000</td>\n      <td>427.750000</td>\n      <td>298.250000</td>\n      <td>0.000000</td>\n      <td>0.000000</td>\n      <td>11058.83</td>\n      <td>423.815</td>\n      <td>NaN</td>\n    </tr>\n    <tr>\n      <th>16038</th>\n      <td>26.899940</td>\n      <td>27.00</td>\n      <td>0.000000</td>\n      <td>-0.100060</td>\n      <td>2020-10-30 01:00:00+00:00</td>\n      <td>44.36</td>\n      <td>-0.147359</td>\n      <td>-0.250955</td>\n      <td>-513.625000</td>\n      <td>-572.708333</td>\n      <td>...</td>\n      <td>2.500000</td>\n      <td>364.000000</td>\n      <td>0.000000</td>\n      <td>427.750000</td>\n      <td>298.250000</td>\n      <td>0.000000</td>\n      <td>0.000000</td>\n      <td>11058.83</td>\n      <td>423.815</td>\n      <td>NaN</td>\n    </tr>\n    <tr>\n      <th>16091</th>\n      <td>30.299947</td>\n      <td>31.52</td>\n      <td>-1.056979</td>\n      <td>-0.163074</td>\n      <td>2020-11-01 06:00:00+00:00</td>\n      <td>38.54</td>\n      <td>-0.202359</td>\n      <td>-0.221977</td>\n      <td>-426.833333</td>\n      <td>-613.166667</td>\n      <td>...</td>\n      <td>NaN</td>\n      <td>NaN</td>\n      <td>NaN</td>\n      <td>NaN</td>\n      <td>NaN</td>\n      <td>NaN</td>\n      <td>NaN</td>\n      <td>11030.94</td>\n      <td>678.961</td>\n      <td>2.352</td>\n    </tr>\n    <tr>\n      <th>16092</th>\n      <td>31.084103</td>\n      <td>31.52</td>\n      <td>-0.374933</td>\n      <td>-0.060964</td>\n      <td>2020-11-01 06:00:00+00:00</td>\n      <td>38.54</td>\n      <td>-0.202359</td>\n      <td>-0.221977</td>\n      <td>-426.833333</td>\n      <td>-613.166667</td>\n      <td>...</td>\n      <td>NaN</td>\n      <td>NaN</td>\n      <td>NaN</td>\n      <td>NaN</td>\n      <td>NaN</td>\n      <td>NaN</td>\n      <td>NaN</td>\n      <td>11030.94</td>\n      <td>678.961</td>\n      <td>2.352</td>\n    </tr>\n    <tr>\n      <th>16760</th>\n      <td>0.785042</td>\n      <td>0.79</td>\n      <td>0.000000</td>\n      <td>-0.004958</td>\n      <td>2020-11-29 01:00:00+00:00</td>\n      <td>13.48</td>\n      <td>0.000000</td>\n      <td>-0.074524</td>\n      <td>-474.625000</td>\n      <td>-606.041667</td>\n      <td>...</td>\n      <td>1.250000</td>\n      <td>374.875000</td>\n      <td>0.000000</td>\n      <td>710.375000</td>\n      <td>240.000000</td>\n      <td>NaN</td>\n      <td>0.000000</td>\n      <td>10646.68</td>\n      <td>577.275</td>\n      <td>NaN</td>\n    </tr>\n    <tr>\n      <th>16759</th>\n      <td>0.785042</td>\n      <td>0.79</td>\n      <td>0.000000</td>\n      <td>-0.004958</td>\n      <td>2020-11-29 01:00:00+00:00</td>\n      <td>13.48</td>\n      <td>0.000000</td>\n      <td>-0.102746</td>\n      <td>-474.625000</td>\n      <td>-606.041667</td>\n      <td>...</td>\n      <td>1.250000</td>\n      <td>374.875000</td>\n      <td>0.000000</td>\n      <td>710.375000</td>\n      <td>240.000000</td>\n      <td>NaN</td>\n      <td>0.000000</td>\n      <td>10646.68</td>\n      <td>577.275</td>\n      <td>NaN</td>\n    </tr>\n    <tr>\n      <th>28168</th>\n      <td>32.152107</td>\n      <td>32.33</td>\n      <td>-0.015546</td>\n      <td>-0.162347</td>\n      <td>2022-03-21 11:00:00+00:00</td>\n      <td>37.33</td>\n      <td>-0.454942</td>\n      <td>-0.259255</td>\n      <td>-122.000000</td>\n      <td>-465.500000</td>\n      <td>...</td>\n      <td>4.000000</td>\n      <td>261.333333</td>\n      <td>365.000000</td>\n      <td>1106.333333</td>\n      <td>285.000000</td>\n      <td>NaN</td>\n      <td>2.000000</td>\n      <td>11377.56</td>\n      <td>922.918</td>\n      <td>1743.223</td>\n    </tr>\n    <tr>\n      <th>28169</th>\n      <td>31.973841</td>\n      <td>32.33</td>\n      <td>0.000000</td>\n      <td>-0.356159</td>\n      <td>2022-03-21 11:00:00+00:00</td>\n      <td>37.33</td>\n      <td>-0.454942</td>\n      <td>-0.259255</td>\n      <td>-122.000000</td>\n      <td>-465.500000</td>\n      <td>...</td>\n      <td>4.000000</td>\n      <td>261.333333</td>\n      <td>365.000000</td>\n      <td>1106.333333</td>\n      <td>285.000000</td>\n      <td>NaN</td>\n      <td>2.000000</td>\n      <td>11377.56</td>\n      <td>922.918</td>\n      <td>1743.223</td>\n    </tr>\n    <tr>\n      <th>30460</th>\n      <td>84.828782</td>\n      <td>85.04</td>\n      <td>0.000000</td>\n      <td>-0.211218</td>\n      <td>2022-06-24 22:00:00+00:00</td>\n      <td>64.93</td>\n      <td>0.000000</td>\n      <td>-0.271288</td>\n      <td>-358.375000</td>\n      <td>-498.375000</td>\n      <td>...</td>\n      <td>12.200000</td>\n      <td>369.400000</td>\n      <td>0.000000</td>\n      <td>228.100000</td>\n      <td>258.900000</td>\n      <td>NaN</td>\n      <td>0.000000</td>\n      <td>15414.58</td>\n      <td>214.108</td>\n      <td>NaN</td>\n    </tr>\n    <tr>\n      <th>30461</th>\n      <td>84.828782</td>\n      <td>85.04</td>\n      <td>0.000000</td>\n      <td>-0.211218</td>\n      <td>2022-06-24 22:00:00+00:00</td>\n      <td>64.93</td>\n      <td>0.000000</td>\n      <td>-0.003812</td>\n      <td>-358.375000</td>\n      <td>-498.375000</td>\n      <td>...</td>\n      <td>12.200000</td>\n      <td>369.400000</td>\n      <td>0.000000</td>\n      <td>228.100000</td>\n      <td>258.900000</td>\n      <td>NaN</td>\n      <td>0.000000</td>\n      <td>15414.58</td>\n      <td>214.108</td>\n      <td>NaN</td>\n    </tr>\n    <tr>\n      <th>31560</th>\n      <td>205.407009</td>\n      <td>207.48</td>\n      <td>0.000000</td>\n      <td>-2.072991</td>\n      <td>2022-08-09 17:00:00+00:00</td>\n      <td>261.87</td>\n      <td>0.000000</td>\n      <td>-2.990187</td>\n      <td>-308.583333</td>\n      <td>-537.541667</td>\n      <td>...</td>\n      <td>52.714286</td>\n      <td>275.857143</td>\n      <td>56.285714</td>\n      <td>214.428571</td>\n      <td>228.714286</td>\n      <td>112.714286</td>\n      <td>217.285714</td>\n      <td>23213.29</td>\n      <td>225.958</td>\n      <td>883.654</td>\n    </tr>\n    <tr>\n      <th>31561</th>\n      <td>205.407009</td>\n      <td>207.48</td>\n      <td>0.000000</td>\n      <td>-2.072991</td>\n      <td>2022-08-09 17:00:00+00:00</td>\n      <td>261.87</td>\n      <td>0.000000</td>\n      <td>-2.195957</td>\n      <td>-308.583333</td>\n      <td>-537.541667</td>\n      <td>...</td>\n      <td>52.714286</td>\n      <td>275.857143</td>\n      <td>56.285714</td>\n      <td>214.428571</td>\n      <td>228.714286</td>\n      <td>112.714286</td>\n      <td>217.285714</td>\n      <td>23213.29</td>\n      <td>225.958</td>\n      <td>883.654</td>\n    </tr>\n    <tr>\n      <th>32645</th>\n      <td>40.163587</td>\n      <td>41.05</td>\n      <td>-0.512651</td>\n      <td>-0.373761</td>\n      <td>2022-09-23 20:00:00+00:00</td>\n      <td>79.28</td>\n      <td>-1.161470</td>\n      <td>-0.602928</td>\n      <td>10.833333</td>\n      <td>-280.666667</td>\n      <td>...</td>\n      <td>5.888889</td>\n      <td>331.333333</td>\n      <td>0.000000</td>\n      <td>1109.111111</td>\n      <td>154.444444</td>\n      <td>0.000000</td>\n      <td>0.555556</td>\n      <td>13140.72</td>\n      <td>1128.155</td>\n      <td>NaN</td>\n    </tr>\n    <tr>\n      <th>32644</th>\n      <td>40.163587</td>\n      <td>41.05</td>\n      <td>-0.512651</td>\n      <td>-0.373761</td>\n      <td>2022-09-23 20:00:00+00:00</td>\n      <td>79.28</td>\n      <td>-2.387583</td>\n      <td>-1.201159</td>\n      <td>10.833333</td>\n      <td>-280.666667</td>\n      <td>...</td>\n      <td>5.888889</td>\n      <td>331.333333</td>\n      <td>0.000000</td>\n      <td>1109.111111</td>\n      <td>154.444444</td>\n      <td>0.000000</td>\n      <td>0.555556</td>\n      <td>13140.72</td>\n      <td>1128.155</td>\n      <td>NaN</td>\n    </tr>\n    <tr>\n      <th>33695</th>\n      <td>42.507336</td>\n      <td>42.74</td>\n      <td>-0.025551</td>\n      <td>-0.207113</td>\n      <td>2022-11-06 14:00:00+00:00</td>\n      <td>33.68</td>\n      <td>-0.150829</td>\n      <td>-0.271886</td>\n      <td>-242.125000</td>\n      <td>-520.458333</td>\n      <td>...</td>\n      <td>2.444444</td>\n      <td>332.777778</td>\n      <td>80.666667</td>\n      <td>776.555556</td>\n      <td>185.666667</td>\n      <td>NaN</td>\n      <td>NaN</td>\n      <td>12059.01</td>\n      <td>806.690</td>\n      <td>516.011</td>\n    </tr>\n    <tr>\n      <th>33696</th>\n      <td>42.507336</td>\n      <td>42.74</td>\n      <td>-0.025551</td>\n      <td>-0.207113</td>\n      <td>2022-11-06 14:00:00+00:00</td>\n      <td>33.68</td>\n      <td>-0.063627</td>\n      <td>-0.066889</td>\n      <td>-242.125000</td>\n      <td>-520.458333</td>\n      <td>...</td>\n      <td>2.444444</td>\n      <td>332.777778</td>\n      <td>80.666667</td>\n      <td>776.555556</td>\n      <td>185.666667</td>\n      <td>NaN</td>\n      <td>NaN</td>\n      <td>12059.01</td>\n      <td>806.690</td>\n      <td>516.011</td>\n    </tr>\n  </tbody>\n</table>\n<p>30 rows × 25 columns</p>\n</div>"
     },
     "execution_count": 36,
     "metadata": {},
     "output_type": "execute_result"
    }
   ],
   "source": [
    "ids = total['time_tomerge']\n",
    "total[ids.isin(ids[ids.duplicated()])].sort_values(\"time_tomerge\")"
   ],
   "metadata": {
    "collapsed": false
   }
  },
  {
   "cell_type": "code",
   "execution_count": 96,
   "outputs": [
    {
     "data": {
      "text/plain": "Index(['congestion_da', 'congestion_rt', 'energy_da', 'energy_rt',\n       'exchange_rt', 'unnamed: 0', 'gas_price', 'gen_coal', 'gen_hydro',\n       'gen_landfillgas', 'gen_gas', 'gen_nuclear', 'gen_oil', 'gen_other',\n       'gen_refuse', 'gen_solar', 'gen_wind', 'gen_wood', 'load_rt',\n       'losses_da', 'losses_rt', 'regulation_price', 'regulation_quantity',\n       'reserves_price', 'reserves_quantity', 'gen_solar2', 'gen_wind2'],\n      dtype='object')"
     },
     "execution_count": 96,
     "metadata": {},
     "output_type": "execute_result"
    }
   ],
   "source": [
    "ISO_final[\"ISONE\"].columns"
   ],
   "metadata": {
    "collapsed": false
   }
  },
  {
   "cell_type": "code",
   "execution_count": null,
   "outputs": [],
   "source": [
    "ISO_done = [\"ISONE\"]\n",
    "FILE_PATH = \"/Users/evanlipton/Dropbox (YSE)/Solar_ElectricData/Data\"\n",
    "new_data = {}\n",
    "for ISO in ISO_done:\n",
    "    sub_folder = f\"{FILE_PATH}/{ISO}/new/combined\"\n",
    "    files = [f for f in listdir(sub_folder) if isfile(join(sub_folder, f)) and f[0]!=\".\"]\n",
    "    new_data[ISO] = {}\n",
    "    print(ISO)\n",
    "    for file in tqdm(files):\n",
    "        new_data[ISO][file.replace(\".csv\", \"\")] = pd.read_csv(f\"{sub_folder}/{file}\")"
   ],
   "metadata": {
    "collapsed": false
   }
  },
  {
   "cell_type": "code",
   "execution_count": 18,
   "outputs": [
    {
     "data": {
      "text/plain": "     H    Interface Name  Local Date Local Hour Ending Actual Interchange  \\\n0    H             Label  YYYY-MM-DD                HE                MWh   \n1    D  .I.SALBRYNB345 1  2021-11-30                01                190   \n2    D  .I.SALBRYNB345 1  2021-11-30                02                -51   \n3    D  .I.SALBRYNB345 1  2021-11-30                03                -64   \n4    D  .I.SALBRYNB345 1  2021-11-30                04                 99   \n..  ..               ...         ...               ...                ...   \n141  D  .I.NRTHPORT138 5  2021-11-30                21                 11   \n142  D  .I.NRTHPORT138 5  2021-11-30                22                 33   \n143  D  .I.NRTHPORT138 5  2021-11-30                23                 27   \n144  D  .I.NRTHPORT138 5  2021-11-30                24                -29   \n145  T         144 lines         NaN               NaN                NaN   \n\n    Purchases Sales  \n0         MWh   MWh  \n1        -219   409  \n2        -154   103  \n3        -212   148  \n4        -153   252  \n..        ...   ...  \n141       -59    70  \n142       -75   108  \n143      -105   132  \n144      -112    83  \n145       NaN   NaN  \n\n[146 rows x 7 columns]",
      "text/html": "<div>\n<style scoped>\n    .dataframe tbody tr th:only-of-type {\n        vertical-align: middle;\n    }\n\n    .dataframe tbody tr th {\n        vertical-align: top;\n    }\n\n    .dataframe thead th {\n        text-align: right;\n    }\n</style>\n<table border=\"1\" class=\"dataframe\">\n  <thead>\n    <tr style=\"text-align: right;\">\n      <th></th>\n      <th>H</th>\n      <th>Interface Name</th>\n      <th>Local Date</th>\n      <th>Local Hour Ending</th>\n      <th>Actual Interchange</th>\n      <th>Purchases</th>\n      <th>Sales</th>\n    </tr>\n  </thead>\n  <tbody>\n    <tr>\n      <th>0</th>\n      <td>H</td>\n      <td>Label</td>\n      <td>YYYY-MM-DD</td>\n      <td>HE</td>\n      <td>MWh</td>\n      <td>MWh</td>\n      <td>MWh</td>\n    </tr>\n    <tr>\n      <th>1</th>\n      <td>D</td>\n      <td>.I.SALBRYNB345 1</td>\n      <td>2021-11-30</td>\n      <td>01</td>\n      <td>190</td>\n      <td>-219</td>\n      <td>409</td>\n    </tr>\n    <tr>\n      <th>2</th>\n      <td>D</td>\n      <td>.I.SALBRYNB345 1</td>\n      <td>2021-11-30</td>\n      <td>02</td>\n      <td>-51</td>\n      <td>-154</td>\n      <td>103</td>\n    </tr>\n    <tr>\n      <th>3</th>\n      <td>D</td>\n      <td>.I.SALBRYNB345 1</td>\n      <td>2021-11-30</td>\n      <td>03</td>\n      <td>-64</td>\n      <td>-212</td>\n      <td>148</td>\n    </tr>\n    <tr>\n      <th>4</th>\n      <td>D</td>\n      <td>.I.SALBRYNB345 1</td>\n      <td>2021-11-30</td>\n      <td>04</td>\n      <td>99</td>\n      <td>-153</td>\n      <td>252</td>\n    </tr>\n    <tr>\n      <th>...</th>\n      <td>...</td>\n      <td>...</td>\n      <td>...</td>\n      <td>...</td>\n      <td>...</td>\n      <td>...</td>\n      <td>...</td>\n    </tr>\n    <tr>\n      <th>141</th>\n      <td>D</td>\n      <td>.I.NRTHPORT138 5</td>\n      <td>2021-11-30</td>\n      <td>21</td>\n      <td>11</td>\n      <td>-59</td>\n      <td>70</td>\n    </tr>\n    <tr>\n      <th>142</th>\n      <td>D</td>\n      <td>.I.NRTHPORT138 5</td>\n      <td>2021-11-30</td>\n      <td>22</td>\n      <td>33</td>\n      <td>-75</td>\n      <td>108</td>\n    </tr>\n    <tr>\n      <th>143</th>\n      <td>D</td>\n      <td>.I.NRTHPORT138 5</td>\n      <td>2021-11-30</td>\n      <td>23</td>\n      <td>27</td>\n      <td>-105</td>\n      <td>132</td>\n    </tr>\n    <tr>\n      <th>144</th>\n      <td>D</td>\n      <td>.I.NRTHPORT138 5</td>\n      <td>2021-11-30</td>\n      <td>24</td>\n      <td>-29</td>\n      <td>-112</td>\n      <td>83</td>\n    </tr>\n    <tr>\n      <th>145</th>\n      <td>T</td>\n      <td>144 lines</td>\n      <td>NaN</td>\n      <td>NaN</td>\n      <td>NaN</td>\n      <td>NaN</td>\n      <td>NaN</td>\n    </tr>\n  </tbody>\n</table>\n<p>146 rows × 7 columns</p>\n</div>"
     },
     "execution_count": 18,
     "metadata": {},
     "output_type": "execute_result"
    }
   ],
   "source": [
    "pd.read_csv(\"/Users/evanlipton/Dropbox (YSE)/Solar_ElectricData/Data/ISONE/new/exchange/exchange_20211130_20211130.csv\", skiprows=4)\n"
   ],
   "metadata": {
    "collapsed": false
   }
  },
  {
   "cell_type": "code",
   "execution_count": null,
   "outputs": [],
   "source": [],
   "metadata": {
    "collapsed": false
   }
  }
 ],
 "metadata": {
  "kernelspec": {
   "display_name": "Python 3",
   "language": "python",
   "name": "python3"
  },
  "language_info": {
   "codemirror_mode": {
    "name": "ipython",
    "version": 2
   },
   "file_extension": ".py",
   "mimetype": "text/x-python",
   "name": "python",
   "nbconvert_exporter": "python",
   "pygments_lexer": "ipython2",
   "version": "2.7.6"
  }
 },
 "nbformat": 4,
 "nbformat_minor": 0
}
