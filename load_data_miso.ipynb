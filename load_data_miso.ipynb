{
 "cells": [
  {
   "cell_type": "code",
   "execution_count": null,
   "metadata": {
    "collapsed": true
   },
   "outputs": [],
   "source": []
  },
  {
   "cell_type": "code",
   "execution_count": 1,
   "outputs": [],
   "source": [
    "import numpy as np\n",
    "import pandas as pd\n",
    "import os\n",
    "import re\n",
    "from tqdm import tqdm\n",
    "import requests\n",
    "from io import StringIO\n",
    "from os import listdir\n",
    "from os.path import isfile, join\n",
    "import datetime as dt\n",
    "from datetime import datetime, timedelta\n",
    "\n",
    "import gridstatus"
   ],
   "metadata": {
    "collapsed": false
   }
  },
  {
   "cell_type": "code",
   "execution_count": 2,
   "outputs": [],
   "source": [
    "def listdir_nohidden(path):\n",
    "    for f in os.listdir(path):\n",
    "        if not f.startswith('.'):\n",
    "            yield f\n",
    "\n"
   ],
   "metadata": {
    "collapsed": false
   }
  },
  {
   "cell_type": "code",
   "execution_count": 3,
   "outputs": [],
   "source": [
    "FILE_PATH = \"/Users/evanlipton/Dropbox (YSE)/Solar_ElectricData/Data\""
   ],
   "metadata": {
    "collapsed": false
   }
  },
  {
   "cell_type": "code",
   "execution_count": 4,
   "outputs": [],
   "source": [
    "ISOS = [\"ERCOT\"]"
   ],
   "metadata": {
    "collapsed": false
   }
  },
  {
   "cell_type": "code",
   "execution_count": 5,
   "outputs": [
    {
     "name": "stderr",
     "output_type": "stream",
     "text": [
      "13it [00:01,  7.69it/s]\n"
     ]
    }
   ],
   "source": [
    "ISO_files = {}\n",
    "ISO_data = {}\n",
    "ISO_final = {}\n",
    "\n",
    "#load in\n",
    "for ISO in ISOS:\n",
    "    ISO_files[ISO] = listdir_nohidden(f\"{FILE_PATH}/{ISO}/old\")\n",
    "    ISO_data[ISO] = {}\n",
    "    for file in tqdm(ISO_files[ISO]):\n",
    "        compiled = re.compile(re.escape(f\"{ISO}_\"), re.IGNORECASE)\n",
    "\n",
    "        ISO_data[ISO][compiled.sub(\"\", file).replace(\".csv\",\"\")] = pd.read_csv(f\"{FILE_PATH}/{ISO}/old/{file}\")"
   ],
   "metadata": {
    "collapsed": false
   }
  },
  {
   "cell_type": "code",
   "execution_count": 6,
   "outputs": [
    {
     "name": "stdout",
     "output_type": "stream",
     "text": [
      "ERCOT\n"
     ]
    }
   ],
   "source": [
    "#add merge datetime\n",
    "titles = {}\n",
    "for key in ISO_data:\n",
    "    print(key)\n",
    "    titles[key]= []\n",
    "    for k in ISO_data[key]:\n",
    "        try:\n",
    "            ISO_data[key][k][\"time_tomerge\"] = pd.to_datetime(ISO_data[key][k].iloc[:,0], utc=True)\n",
    "        except:\n",
    "            ISO_data[key][k] = ISO_data[key][k][ISO_data[key][k].index % 24 != 0]\n",
    "            ISO_data[key][k][\"time_tomerge\"] = pd.to_datetime(ISO_data[key][k].iloc[:,0], utc=True)\n",
    "            print(type(ISO_data[key][k][\"time_tomerge\"]))"
   ],
   "metadata": {
    "collapsed": false
   }
  },
  {
   "cell_type": "code",
   "execution_count": 7,
   "outputs": [],
   "source": [
    "ISO_final = {}\n",
    "def clean_final(ISO: str, df: str):\n",
    "    ISO_data[ISO][df].columns = ISO_data[ISO][df].columns.str.lower()\n",
    "    no_date = [col for col in ISO_data[ISO][df].columns if \"date\" not in col]\n",
    "    ISO_data[ISO][df] = ISO_data[ISO][df][no_date]\n",
    "    try:\n",
    "        ISO_data[ISO][df] = ISO_data[ISO][df].drop(\"unnamed: 0\")\n",
    "        ISO_data[ISO][df] = ISO_data[ISO][df].drop(\"hour\")\n",
    "    except:\n",
    "        pass\n",
    "    ISO_data[ISO][df] = ISO_data[ISO][df].sort_values(by=\"time_tomerge\")\n",
    "    ISO_data[ISO][df] = ISO_data[ISO][df].set_index(\"time_tomerge\")\n",
    "    ISO_final[ISO] = ISO_data[ISO][df]\n",
    "    for column in ISO_final[ISO].columns:\n",
    "        if str(ISO).lower() in column:\n",
    "            ISO_final[ISO] = ISO_final[ISO].rename(columns={column: column.replace(f\"{str(ISO).lower()}_\",\"\")})\n",
    "    print(ISO_final[ISO])"
   ],
   "metadata": {
    "collapsed": false
   }
  },
  {
   "cell_type": "code",
   "execution_count": 8,
   "outputs": [
    {
     "name": "stdout",
     "output_type": "stream",
     "text": [
      "                               hour  regdn  regup    rrs  nspin  \\\n",
      "time_tomerge                                                      \n",
      "2014-01-01 06:00:00+00:00      1:00   5.65   9.72  11.72   1.00   \n",
      "2014-01-01 07:00:00+00:00      2:00   5.55   8.22   8.73   1.00   \n",
      "2014-01-01 08:00:00+00:00      3:00   5.55   7.57   8.11   1.00   \n",
      "2014-01-01 09:00:00+00:00      4:00   8.11   4.81   7.25   1.00   \n",
      "2014-01-01 10:00:00+00:00      5:00   8.11  10.00  10.00   1.00   \n",
      "...                             ...    ...    ...    ...    ...   \n",
      "2019-01-01 01:00:00+00:00     20:00   4.01   4.00   9.24   0.89   \n",
      "2019-01-01 02:00:00+00:00     21:00   3.50   4.00   7.21   1.28   \n",
      "2019-01-01 03:00:00+00:00     22:00   4.01   3.22   6.02   0.94   \n",
      "2019-01-01 04:00:00+00:00     23:00   7.15   6.18   6.38   0.97   \n",
      "2019-01-01 05:00:00+00:00  24:00:00   4.58   4.00   4.61   0.97   \n",
      "\n",
      "                           quantity_nsrs  quantity_regdn  quantity_regup  \\\n",
      "time_tomerge                                                               \n",
      "2014-01-01 06:00:00+00:00         1500.0           429.0           406.0   \n",
      "2014-01-01 07:00:00+00:00         1500.0           319.0           355.0   \n",
      "2014-01-01 08:00:00+00:00         1500.0           284.0           327.0   \n",
      "2014-01-01 09:00:00+00:00         1500.0           311.0           329.0   \n",
      "2014-01-01 10:00:00+00:00         1500.0           360.0           267.0   \n",
      "...                                  ...             ...             ...   \n",
      "2019-01-01 01:00:00+00:00         1492.0           312.0           177.0   \n",
      "2019-01-01 02:00:00+00:00         1492.0           304.0           182.0   \n",
      "2019-01-01 03:00:00+00:00         1492.0           357.0           223.0   \n",
      "2019-01-01 04:00:00+00:00         1200.0           412.0           307.0   \n",
      "2019-01-01 05:00:00+00:00         1200.0           347.0           206.0   \n",
      "\n",
      "                           quantity_rrs  congestion_da  ...  gen_biomass  \\\n",
      "time_tomerge                                            ...                \n",
      "2014-01-01 06:00:00+00:00        2800.0         0.1025  ...     7.095502   \n",
      "2014-01-01 07:00:00+00:00        2800.0         0.0900  ...     7.098500   \n",
      "2014-01-01 08:00:00+00:00        2800.0         0.0750  ...     7.095719   \n",
      "2014-01-01 09:00:00+00:00        2800.0         0.0650  ...     7.097192   \n",
      "2014-01-01 10:00:00+00:00        2800.0         0.0625  ...     7.096920   \n",
      "...                                 ...            ...  ...          ...   \n",
      "2019-01-01 01:00:00+00:00        2842.0         1.0375  ...    12.145282   \n",
      "2019-01-01 02:00:00+00:00        2842.0         1.0425  ...    12.170006   \n",
      "2019-01-01 03:00:00+00:00        2842.0         0.8825  ...    12.246441   \n",
      "2019-01-01 04:00:00+00:00        2985.0         0.4950  ...    12.223977   \n",
      "2019-01-01 05:00:00+00:00        2985.0         0.4175  ...    12.234463   \n",
      "\n",
      "                              gen_coal     gen_gas    gen_gascc  gen_hydro  \\\n",
      "time_tomerge                                                                 \n",
      "2014-01-01 06:00:00+00:00  3880.374175  309.262716  1642.188240   7.429681   \n",
      "2014-01-01 07:00:00+00:00  3857.146622  308.318938  1635.779952   2.518045   \n",
      "2014-01-01 08:00:00+00:00  3769.422080  303.777786  1614.478248   1.179018   \n",
      "2014-01-01 09:00:00+00:00  3769.186416  302.607390  1604.378473   1.175589   \n",
      "2014-01-01 10:00:00+00:00  3805.544435  303.852531  1634.356701   1.170548   \n",
      "...                                ...         ...          ...        ...   \n",
      "2019-01-01 01:00:00+00:00  2479.484332  391.882481  4388.565858  44.618267   \n",
      "2019-01-01 02:00:00+00:00  2077.673579  363.973904  4119.453648  38.244976   \n",
      "2019-01-01 03:00:00+00:00  1801.754774  264.972229  3764.678094  29.561197   \n",
      "2019-01-01 04:00:00+00:00  1714.668603  232.995308  3364.258326  29.534574   \n",
      "2019-01-01 05:00:00+00:00  1517.025956  203.237612  3151.319505  29.573974   \n",
      "\n",
      "                           gen_nuclear  gen_other  gen_solar     gen_wind  \\\n",
      "time_tomerge                                                                \n",
      "2014-01-01 06:00:00+00:00  1281.970299   4.847426        0.0  1811.437099   \n",
      "2014-01-01 07:00:00+00:00  1282.026085   4.839872        0.0  1774.173199   \n",
      "2014-01-01 08:00:00+00:00  1281.991161   4.857254        0.0  1824.109856   \n",
      "2014-01-01 09:00:00+00:00  1282.015885   4.857857        0.0  1822.093915   \n",
      "2014-01-01 10:00:00+00:00  1282.231250   4.872672        0.0  1842.063553   \n",
      "...                                ...        ...        ...          ...   \n",
      "2019-01-01 01:00:00+00:00   973.851920   0.645350        0.0  1666.222867   \n",
      "2019-01-01 02:00:00+00:00   973.729522   0.766711        0.0  2190.580381   \n",
      "2019-01-01 03:00:00+00:00   973.613152   0.778381        0.0  2792.796215   \n",
      "2019-01-01 04:00:00+00:00   973.826887   0.806565        0.0  3115.930604   \n",
      "2019-01-01 05:00:00+00:00   973.963910   0.629856        0.0  3436.239351   \n",
      "\n",
      "                                  load  \n",
      "time_tomerge                            \n",
      "2014-01-01 06:00:00+00:00  35812.13372  \n",
      "2014-01-01 07:00:00+00:00  35570.63516  \n",
      "2014-01-01 08:00:00+00:00  35311.51921  \n",
      "2014-01-01 09:00:00+00:00  35209.41433  \n",
      "2014-01-01 10:00:00+00:00  35561.49313  \n",
      "...                                ...  \n",
      "2019-01-01 01:00:00+00:00  39802.78882  \n",
      "2019-01-01 02:00:00+00:00  39078.11384  \n",
      "2019-01-01 03:00:00+00:00  38535.68345  \n",
      "2019-01-01 04:00:00+00:00  37851.31275  \n",
      "2019-01-01 05:00:00+00:00  37371.26927  \n",
      "\n",
      "[43824 rows x 25 columns]\n"
     ]
    }
   ],
   "source": [
    "for iso in ISOS:\n",
    "    clean_final(iso, \"all_data\")"
   ],
   "metadata": {
    "collapsed": false
   }
  }
 ],
 "metadata": {
  "kernelspec": {
   "display_name": "Python 3",
   "language": "python",
   "name": "python3"
  },
  "language_info": {
   "codemirror_mode": {
    "name": "ipython",
    "version": 2
   },
   "file_extension": ".py",
   "mimetype": "text/x-python",
   "name": "python",
   "nbconvert_exporter": "python",
   "pygments_lexer": "ipython2",
   "version": "2.7.6"
  }
 },
 "nbformat": 4,
 "nbformat_minor": 0
}
